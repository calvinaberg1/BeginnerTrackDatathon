{
  "cells": [
    {
      "cell_type": "markdown",
      "source": [
        "# BEGINNER TRACK DATATHON"
      ],
      "metadata": {
        "id": "c90nmRhVzAA8"
      }
    },
    {
      "cell_type": "markdown",
      "metadata": {
        "id": "-Hy7nEBRiWpP"
      },
      "source": [
        "## Read Ins and Imports"
      ]
    },
    {
      "cell_type": "code",
      "execution_count": null,
      "metadata": {
        "id": "KYmZ7I-DZAoK"
      },
      "outputs": [],
      "source": [
        "# standard imports with usefulness to our project\n",
        "import pandas as pd\n",
        "import seaborn as sns\n",
        "import matplotlib.pyplot as plt\n",
        "import numpy as np"
      ]
    },
    {
      "cell_type": "code",
      "execution_count": null,
      "metadata": {
        "id": "JT8WiqqwfXls"
      },
      "outputs": [],
      "source": [
        "# reading in the data\n",
        "loanSet = pd.read_csv('track.csv')"
      ]
    },
    {
      "cell_type": "code",
      "execution_count": null,
      "metadata": {
        "colab": {
          "base_uri": "https://localhost:8080/"
        },
        "id": "o7rgrWaWwuVi",
        "outputId": "4ed38778-f062-4fba-947d-dc73ab3ab1f9"
      },
      "outputs": [
        {
          "output_type": "execute_result",
          "data": {
            "text/plain": [
              "1.0    119267\n",
              "0.0     16994\n",
              "Name: accepted, dtype: int64"
            ]
          },
          "metadata": {},
          "execution_count": 1380
        }
      ],
      "source": [
        "# checking initialy the overall shape, values, etc. of our data to get an initial feel for it\n",
        "loanSet['accepted'].value_counts()"
      ]
    },
    {
      "cell_type": "code",
      "execution_count": null,
      "metadata": {
        "colab": {
          "base_uri": "https://localhost:8080/"
        },
        "id": "7zS7ELiffdwS",
        "outputId": "0a31ca6b-e3d1-463b-b720-1ba663f6c0fb"
      },
      "outputs": [
        {
          "output_type": "execute_result",
          "data": {
            "text/plain": [
              "(136261, 38)"
            ]
          },
          "metadata": {},
          "execution_count": 1381
        }
      ],
      "source": [
        "loanSet.shape"
      ]
    },
    {
      "cell_type": "code",
      "execution_count": null,
      "metadata": {
        "colab": {
          "base_uri": "https://localhost:8080/",
          "height": 444
        },
        "id": "2ipPrWYLfiLP",
        "outputId": "ad710a62-f226-4bea-f784-a707f927fa35"
      },
      "outputs": [
        {
          "output_type": "execute_result",
          "data": {
            "text/html": [
              "\n",
              "  <div id=\"df-0f6a5aff-faf8-4539-a13f-5403d138167d\">\n",
              "    <div class=\"colab-df-container\">\n",
              "      <div>\n",
              "<style scoped>\n",
              "    .dataframe tbody tr th:only-of-type {\n",
              "        vertical-align: middle;\n",
              "    }\n",
              "\n",
              "    .dataframe tbody tr th {\n",
              "        vertical-align: top;\n",
              "    }\n",
              "\n",
              "    .dataframe thead th {\n",
              "        text-align: right;\n",
              "    }\n",
              "</style>\n",
              "<table border=\"1\" class=\"dataframe\">\n",
              "  <thead>\n",
              "    <tr style=\"text-align: right;\">\n",
              "      <th></th>\n",
              "      <th>year</th>\n",
              "      <th>state_code</th>\n",
              "      <th>county_code</th>\n",
              "      <th>msa</th>\n",
              "      <th>census_tract</th>\n",
              "      <th>applicant_age</th>\n",
              "      <th>applicant_age_above_62</th>\n",
              "      <th>race</th>\n",
              "      <th>ethnicity</th>\n",
              "      <th>sex</th>\n",
              "      <th>income</th>\n",
              "      <th>debt_to_income_ratio</th>\n",
              "      <th>tract_one_to_four_family_homes</th>\n",
              "      <th>tract_median_age_of_hu</th>\n",
              "      <th>tract_minority_pop_percent</th>\n",
              "      <th>tract_population</th>\n",
              "      <th>tract_to_msa_income_percentage</th>\n",
              "      <th>lei</th>\n",
              "      <th>aus</th>\n",
              "      <th>purchaser_type</th>\n",
              "      <th>ffiec_msa_md_median_fam_income</th>\n",
              "      <th>balloon_payment</th>\n",
              "      <th>business_or_commercial_purpose</th>\n",
              "      <th>combined_loan_to_value_ratio</th>\n",
              "      <th>conforming_loan_limit</th>\n",
              "      <th>construction_method</th>\n",
              "      <th>discount_points</th>\n",
              "      <th>interest_rate</th>\n",
              "      <th>lender_credits</th>\n",
              "      <th>loan_amount</th>\n",
              "      <th>loan_type</th>\n",
              "      <th>lien_status</th>\n",
              "      <th>occupancy_type</th>\n",
              "      <th>property_value</th>\n",
              "      <th>total_loan_costs</th>\n",
              "      <th>total_units</th>\n",
              "      <th>accepted</th>\n",
              "      <th>denial_reason</th>\n",
              "    </tr>\n",
              "  </thead>\n",
              "  <tbody>\n",
              "    <tr>\n",
              "      <th>0</th>\n",
              "      <td>2019</td>\n",
              "      <td>TX</td>\n",
              "      <td>48201.0</td>\n",
              "      <td>26420.0</td>\n",
              "      <td>4.820142e+10</td>\n",
              "      <td>45-54</td>\n",
              "      <td>0.0</td>\n",
              "      <td>Native Hawaiian or Other Pacific Islander</td>\n",
              "      <td>Hispanic or Latino</td>\n",
              "      <td>Male</td>\n",
              "      <td>26.0</td>\n",
              "      <td>&gt;60%</td>\n",
              "      <td>2331.0</td>\n",
              "      <td>39.0</td>\n",
              "      <td>84.39</td>\n",
              "      <td>6949.0</td>\n",
              "      <td>86.0</td>\n",
              "      <td>7H6GLXDRUGQFU57RNE97</td>\n",
              "      <td>NaN</td>\n",
              "      <td>NaN</td>\n",
              "      <td>77100.0</td>\n",
              "      <td>0.0</td>\n",
              "      <td>0.0</td>\n",
              "      <td>99.640</td>\n",
              "      <td>C</td>\n",
              "      <td>Site-built</td>\n",
              "      <td>NaN</td>\n",
              "      <td>NaN</td>\n",
              "      <td>NaN</td>\n",
              "      <td>95000.0</td>\n",
              "      <td>Conventional</td>\n",
              "      <td>Subordinate Lien</td>\n",
              "      <td>Principal residence</td>\n",
              "      <td>155000.0</td>\n",
              "      <td>NaN</td>\n",
              "      <td>1.0</td>\n",
              "      <td>0.0</td>\n",
              "      <td>Debt-to-income ratio</td>\n",
              "    </tr>\n",
              "    <tr>\n",
              "      <th>1</th>\n",
              "      <td>2019</td>\n",
              "      <td>TX</td>\n",
              "      <td>48201.0</td>\n",
              "      <td>26420.0</td>\n",
              "      <td>4.820143e+10</td>\n",
              "      <td>55-64</td>\n",
              "      <td>0.0</td>\n",
              "      <td>White</td>\n",
              "      <td>Not Hispanic or Latino</td>\n",
              "      <td>Joint</td>\n",
              "      <td>379.0</td>\n",
              "      <td>&gt;60%</td>\n",
              "      <td>1202.0</td>\n",
              "      <td>35.0</td>\n",
              "      <td>24.86</td>\n",
              "      <td>3270.0</td>\n",
              "      <td>360.0</td>\n",
              "      <td>7H6GLXDRUGQFU57RNE97</td>\n",
              "      <td>NaN</td>\n",
              "      <td>NaN</td>\n",
              "      <td>77100.0</td>\n",
              "      <td>0.0</td>\n",
              "      <td>0.0</td>\n",
              "      <td>68.617</td>\n",
              "      <td>NC</td>\n",
              "      <td>Site-built</td>\n",
              "      <td>NaN</td>\n",
              "      <td>NaN</td>\n",
              "      <td>NaN</td>\n",
              "      <td>3225000.0</td>\n",
              "      <td>Conventional</td>\n",
              "      <td>First Lien</td>\n",
              "      <td>Principal residence</td>\n",
              "      <td>4705000.0</td>\n",
              "      <td>NaN</td>\n",
              "      <td>1.0</td>\n",
              "      <td>0.0</td>\n",
              "      <td>Debt-to-income ratio</td>\n",
              "    </tr>\n",
              "    <tr>\n",
              "      <th>2</th>\n",
              "      <td>2019</td>\n",
              "      <td>TX</td>\n",
              "      <td>48201.0</td>\n",
              "      <td>26420.0</td>\n",
              "      <td>4.820122e+10</td>\n",
              "      <td>45-54</td>\n",
              "      <td>0.0</td>\n",
              "      <td>Asian</td>\n",
              "      <td>Hispanic or Latino</td>\n",
              "      <td>Joint</td>\n",
              "      <td>86.0</td>\n",
              "      <td>41%-&lt;46%</td>\n",
              "      <td>1261.0</td>\n",
              "      <td>45.0</td>\n",
              "      <td>89.71</td>\n",
              "      <td>4803.0</td>\n",
              "      <td>50.0</td>\n",
              "      <td>7H6GLXDRUGQFU57RNE97</td>\n",
              "      <td>NaN</td>\n",
              "      <td>NaN</td>\n",
              "      <td>77100.0</td>\n",
              "      <td>0.0</td>\n",
              "      <td>0.0</td>\n",
              "      <td>58.330</td>\n",
              "      <td>C</td>\n",
              "      <td>Site-built</td>\n",
              "      <td>NaN</td>\n",
              "      <td>6.010</td>\n",
              "      <td>NaN</td>\n",
              "      <td>105000.0</td>\n",
              "      <td>Conventional</td>\n",
              "      <td>First Lien</td>\n",
              "      <td>Principal residence</td>\n",
              "      <td>185000.0</td>\n",
              "      <td>NaN</td>\n",
              "      <td>1.0</td>\n",
              "      <td>1.0</td>\n",
              "      <td>NaN</td>\n",
              "    </tr>\n",
              "    <tr>\n",
              "      <th>3</th>\n",
              "      <td>2019</td>\n",
              "      <td>TX</td>\n",
              "      <td>48201.0</td>\n",
              "      <td>26420.0</td>\n",
              "      <td>4.820152e+10</td>\n",
              "      <td>55-64</td>\n",
              "      <td>1.0</td>\n",
              "      <td>White</td>\n",
              "      <td>Hispanic or Latino</td>\n",
              "      <td>Female</td>\n",
              "      <td>25.0</td>\n",
              "      <td>36%-&lt;41%</td>\n",
              "      <td>651.0</td>\n",
              "      <td>41.0</td>\n",
              "      <td>75.32</td>\n",
              "      <td>3991.0</td>\n",
              "      <td>66.0</td>\n",
              "      <td>7H6GLXDRUGQFU57RNE97</td>\n",
              "      <td>NaN</td>\n",
              "      <td>NaN</td>\n",
              "      <td>77100.0</td>\n",
              "      <td>0.0</td>\n",
              "      <td>0.0</td>\n",
              "      <td>18.220</td>\n",
              "      <td>C</td>\n",
              "      <td>Site-built</td>\n",
              "      <td>NaN</td>\n",
              "      <td>6.125</td>\n",
              "      <td>NaN</td>\n",
              "      <td>65000.0</td>\n",
              "      <td>Conventional</td>\n",
              "      <td>First Lien</td>\n",
              "      <td>Principal residence</td>\n",
              "      <td>375000.0</td>\n",
              "      <td>NaN</td>\n",
              "      <td>1.0</td>\n",
              "      <td>1.0</td>\n",
              "      <td>NaN</td>\n",
              "    </tr>\n",
              "    <tr>\n",
              "      <th>4</th>\n",
              "      <td>2019</td>\n",
              "      <td>TX</td>\n",
              "      <td>48201.0</td>\n",
              "      <td>26420.0</td>\n",
              "      <td>4.820133e+10</td>\n",
              "      <td>65-74</td>\n",
              "      <td>1.0</td>\n",
              "      <td>White</td>\n",
              "      <td>Not Hispanic or Latino</td>\n",
              "      <td>Male</td>\n",
              "      <td>33.0</td>\n",
              "      <td>20%-&lt;30%</td>\n",
              "      <td>871.0</td>\n",
              "      <td>44.0</td>\n",
              "      <td>94.26</td>\n",
              "      <td>6028.0</td>\n",
              "      <td>52.0</td>\n",
              "      <td>7H6GLXDRUGQFU57RNE97</td>\n",
              "      <td>NaN</td>\n",
              "      <td>NaN</td>\n",
              "      <td>77100.0</td>\n",
              "      <td>0.0</td>\n",
              "      <td>0.0</td>\n",
              "      <td>30.330</td>\n",
              "      <td>C</td>\n",
              "      <td>Site-built</td>\n",
              "      <td>NaN</td>\n",
              "      <td>4.500</td>\n",
              "      <td>NaN</td>\n",
              "      <td>75000.0</td>\n",
              "      <td>Conventional</td>\n",
              "      <td>First Lien</td>\n",
              "      <td>Principal residence</td>\n",
              "      <td>235000.0</td>\n",
              "      <td>NaN</td>\n",
              "      <td>1.0</td>\n",
              "      <td>1.0</td>\n",
              "      <td>NaN</td>\n",
              "    </tr>\n",
              "  </tbody>\n",
              "</table>\n",
              "</div>\n",
              "      <button class=\"colab-df-convert\" onclick=\"convertToInteractive('df-0f6a5aff-faf8-4539-a13f-5403d138167d')\"\n",
              "              title=\"Convert this dataframe to an interactive table.\"\n",
              "              style=\"display:none;\">\n",
              "        \n",
              "  <svg xmlns=\"http://www.w3.org/2000/svg\" height=\"24px\"viewBox=\"0 0 24 24\"\n",
              "       width=\"24px\">\n",
              "    <path d=\"M0 0h24v24H0V0z\" fill=\"none\"/>\n",
              "    <path d=\"M18.56 5.44l.94 2.06.94-2.06 2.06-.94-2.06-.94-.94-2.06-.94 2.06-2.06.94zm-11 1L8.5 8.5l.94-2.06 2.06-.94-2.06-.94L8.5 2.5l-.94 2.06-2.06.94zm10 10l.94 2.06.94-2.06 2.06-.94-2.06-.94-.94-2.06-.94 2.06-2.06.94z\"/><path d=\"M17.41 7.96l-1.37-1.37c-.4-.4-.92-.59-1.43-.59-.52 0-1.04.2-1.43.59L10.3 9.45l-7.72 7.72c-.78.78-.78 2.05 0 2.83L4 21.41c.39.39.9.59 1.41.59.51 0 1.02-.2 1.41-.59l7.78-7.78 2.81-2.81c.8-.78.8-2.07 0-2.86zM5.41 20L4 18.59l7.72-7.72 1.47 1.35L5.41 20z\"/>\n",
              "  </svg>\n",
              "      </button>\n",
              "      \n",
              "  <style>\n",
              "    .colab-df-container {\n",
              "      display:flex;\n",
              "      flex-wrap:wrap;\n",
              "      gap: 12px;\n",
              "    }\n",
              "\n",
              "    .colab-df-convert {\n",
              "      background-color: #E8F0FE;\n",
              "      border: none;\n",
              "      border-radius: 50%;\n",
              "      cursor: pointer;\n",
              "      display: none;\n",
              "      fill: #1967D2;\n",
              "      height: 32px;\n",
              "      padding: 0 0 0 0;\n",
              "      width: 32px;\n",
              "    }\n",
              "\n",
              "    .colab-df-convert:hover {\n",
              "      background-color: #E2EBFA;\n",
              "      box-shadow: 0px 1px 2px rgba(60, 64, 67, 0.3), 0px 1px 3px 1px rgba(60, 64, 67, 0.15);\n",
              "      fill: #174EA6;\n",
              "    }\n",
              "\n",
              "    [theme=dark] .colab-df-convert {\n",
              "      background-color: #3B4455;\n",
              "      fill: #D2E3FC;\n",
              "    }\n",
              "\n",
              "    [theme=dark] .colab-df-convert:hover {\n",
              "      background-color: #434B5C;\n",
              "      box-shadow: 0px 1px 3px 1px rgba(0, 0, 0, 0.15);\n",
              "      filter: drop-shadow(0px 1px 2px rgba(0, 0, 0, 0.3));\n",
              "      fill: #FFFFFF;\n",
              "    }\n",
              "  </style>\n",
              "\n",
              "      <script>\n",
              "        const buttonEl =\n",
              "          document.querySelector('#df-0f6a5aff-faf8-4539-a13f-5403d138167d button.colab-df-convert');\n",
              "        buttonEl.style.display =\n",
              "          google.colab.kernel.accessAllowed ? 'block' : 'none';\n",
              "\n",
              "        async function convertToInteractive(key) {\n",
              "          const element = document.querySelector('#df-0f6a5aff-faf8-4539-a13f-5403d138167d');\n",
              "          const dataTable =\n",
              "            await google.colab.kernel.invokeFunction('convertToInteractive',\n",
              "                                                     [key], {});\n",
              "          if (!dataTable) return;\n",
              "\n",
              "          const docLinkHtml = 'Like what you see? Visit the ' +\n",
              "            '<a target=\"_blank\" href=https://colab.research.google.com/notebooks/data_table.ipynb>data table notebook</a>'\n",
              "            + ' to learn more about interactive tables.';\n",
              "          element.innerHTML = '';\n",
              "          dataTable['output_type'] = 'display_data';\n",
              "          await google.colab.output.renderOutput(dataTable, element);\n",
              "          const docLink = document.createElement('div');\n",
              "          docLink.innerHTML = docLinkHtml;\n",
              "          element.appendChild(docLink);\n",
              "        }\n",
              "      </script>\n",
              "    </div>\n",
              "  </div>\n",
              "  "
            ],
            "text/plain": [
              "   year state_code  county_code  ...  total_units  accepted         denial_reason\n",
              "0  2019         TX      48201.0  ...          1.0       0.0  Debt-to-income ratio\n",
              "1  2019         TX      48201.0  ...          1.0       0.0  Debt-to-income ratio\n",
              "2  2019         TX      48201.0  ...          1.0       1.0                   NaN\n",
              "3  2019         TX      48201.0  ...          1.0       1.0                   NaN\n",
              "4  2019         TX      48201.0  ...          1.0       1.0                   NaN\n",
              "\n",
              "[5 rows x 38 columns]"
            ]
          },
          "metadata": {},
          "execution_count": 1382
        }
      ],
      "source": [
        "loanSet.head()"
      ]
    },
    {
      "cell_type": "markdown",
      "source": [
        "## Data Cleaning"
      ],
      "metadata": {
        "id": "Zu24YMYrVU3B"
      }
    },
    {
      "cell_type": "markdown",
      "source": [
        "### Dealing with Null Values"
      ],
      "metadata": {
        "id": "jkrmHMDWVZ65"
      }
    },
    {
      "cell_type": "markdown",
      "source": [
        "After the initial section of reading in data, we have to clean and process our data in reasonable ways, so that it is ready for analysis and modeling in the future."
      ],
      "metadata": {
        "id": "4jRxyF0lpQ2_"
      }
    },
    {
      "cell_type": "code",
      "execution_count": null,
      "metadata": {
        "colab": {
          "base_uri": "https://localhost:8080/"
        },
        "id": "yu7Br2a9m0Sl",
        "outputId": "b9a6f0be-e3f4-4b6d-a032-f9b71521a8e5"
      },
      "outputs": [
        {
          "output_type": "execute_result",
          "data": {
            "text/plain": [
              "year                                   0\n",
              "state_code                            41\n",
              "county_code                            0\n",
              "msa                                    0\n",
              "census_tract                         641\n",
              "applicant_age                          0\n",
              "applicant_age_above_62                 0\n",
              "race                                   0\n",
              "ethnicity                              0\n",
              "sex                                    0\n",
              "income                              1033\n",
              "debt_to_income_ratio                2789\n",
              "tract_one_to_four_family_homes         0\n",
              "tract_median_age_of_hu                 0\n",
              "tract_minority_pop_percent             0\n",
              "tract_population                       0\n",
              "tract_to_msa_income_percentage         0\n",
              "lei                                    0\n",
              "aus                                17808\n",
              "purchaser_type                     41343\n",
              "ffiec_msa_md_median_fam_income         0\n",
              "balloon_payment                        0\n",
              "business_or_commercial_purpose         0\n",
              "combined_loan_to_value_ratio        6630\n",
              "conforming_loan_limit                  0\n",
              "construction_method                    0\n",
              "discount_points                    94541\n",
              "interest_rate                      17738\n",
              "lender_credits                     95665\n",
              "loan_amount                            0\n",
              "loan_type                              0\n",
              "lien_status                            0\n",
              "occupancy_type                         0\n",
              "property_value                      2229\n",
              "total_loan_costs                   24727\n",
              "total_units                            0\n",
              "accepted                               0\n",
              "denial_reason                     119270\n",
              "dtype: int64"
            ]
          },
          "metadata": {},
          "execution_count": 1383
        }
      ],
      "source": [
        "# first, taking a look at how many null values our data has\n",
        "loanSet.isna().sum()"
      ]
    },
    {
      "cell_type": "code",
      "execution_count": null,
      "metadata": {
        "id": "rHkdL9YGrTif"
      },
      "outputs": [],
      "source": [
        "# next, we fill null values with reasonable replacements\n",
        "# for things like denial reason and purchaser type, we had lots of nulls where they weren't applicable to the row\n",
        "loanSet[\"denial_reason\"].fillna(\"Accepted\", inplace = True)\n",
        "loanSet[\"purchaser_type\"].fillna(\"No Purchaser\", inplace = True)\n",
        "# we then filled in the feilds that had nulls when there wasn't an entry, meaning they were 0\n",
        "loanSet[\"discount_points\"].fillna(0, inplace = True)\n",
        "loanSet[\"lender_credits\"].fillna(0, inplace = True)"
      ]
    },
    {
      "cell_type": "code",
      "source": [
        "# here, we're changing the data type of the values to work more effectively with\n",
        "loanSet['accepted'] = loanSet['accepted'].astype(float)\n",
        "loanSet['applicant_age_above_62'] = loanSet['applicant_age_above_62'].astype(int)\n",
        "loanSet['balloon_payment'] = loanSet['balloon_payment'].astype(int)\n",
        "loanSet['business_or_commercial_purpose'] = loanSet['business_or_commercial_purpose'].astype(int)\n",
        "loanSet['total_units'] = loanSet['total_units'].astype(int)"
      ],
      "metadata": {
        "id": "HKRF5E_cozmI"
      },
      "execution_count": null,
      "outputs": []
    },
    {
      "cell_type": "code",
      "execution_count": null,
      "metadata": {
        "id": "lcThs6WgCbkS"
      },
      "outputs": [],
      "source": [
        "# we filled the empty interest rate and loan costs rows with 0 as they represented rejected loaners\n",
        "loanSet['interest_rate'].fillna(0, inplace = True)"
      ]
    },
    {
      "cell_type": "code",
      "source": [
        "loanSet['total_loan_costs'].fillna(0, inplace = True)"
      ],
      "metadata": {
        "id": "oWlYPiVqsRmw"
      },
      "execution_count": null,
      "outputs": []
    },
    {
      "cell_type": "code",
      "execution_count": null,
      "metadata": {
        "id": "tEEf132m9yAY",
        "colab": {
          "base_uri": "https://localhost:8080/",
          "height": 444
        },
        "outputId": "c4753109-fc56-4d0f-c6dd-d76d1a04e5c2"
      },
      "outputs": [
        {
          "output_type": "execute_result",
          "data": {
            "text/html": [
              "\n",
              "  <div id=\"df-682e4b68-347b-4c8a-bcfc-9f7fb2979a5e\">\n",
              "    <div class=\"colab-df-container\">\n",
              "      <div>\n",
              "<style scoped>\n",
              "    .dataframe tbody tr th:only-of-type {\n",
              "        vertical-align: middle;\n",
              "    }\n",
              "\n",
              "    .dataframe tbody tr th {\n",
              "        vertical-align: top;\n",
              "    }\n",
              "\n",
              "    .dataframe thead th {\n",
              "        text-align: right;\n",
              "    }\n",
              "</style>\n",
              "<table border=\"1\" class=\"dataframe\">\n",
              "  <thead>\n",
              "    <tr style=\"text-align: right;\">\n",
              "      <th></th>\n",
              "      <th>year</th>\n",
              "      <th>state_code</th>\n",
              "      <th>county_code</th>\n",
              "      <th>msa</th>\n",
              "      <th>census_tract</th>\n",
              "      <th>applicant_age</th>\n",
              "      <th>applicant_age_above_62</th>\n",
              "      <th>race</th>\n",
              "      <th>ethnicity</th>\n",
              "      <th>sex</th>\n",
              "      <th>income</th>\n",
              "      <th>debt_to_income_ratio</th>\n",
              "      <th>tract_one_to_four_family_homes</th>\n",
              "      <th>tract_median_age_of_hu</th>\n",
              "      <th>tract_minority_pop_percent</th>\n",
              "      <th>tract_population</th>\n",
              "      <th>tract_to_msa_income_percentage</th>\n",
              "      <th>lei</th>\n",
              "      <th>aus</th>\n",
              "      <th>purchaser_type</th>\n",
              "      <th>ffiec_msa_md_median_fam_income</th>\n",
              "      <th>balloon_payment</th>\n",
              "      <th>business_or_commercial_purpose</th>\n",
              "      <th>combined_loan_to_value_ratio</th>\n",
              "      <th>conforming_loan_limit</th>\n",
              "      <th>construction_method</th>\n",
              "      <th>discount_points</th>\n",
              "      <th>interest_rate</th>\n",
              "      <th>lender_credits</th>\n",
              "      <th>loan_amount</th>\n",
              "      <th>loan_type</th>\n",
              "      <th>lien_status</th>\n",
              "      <th>occupancy_type</th>\n",
              "      <th>property_value</th>\n",
              "      <th>total_loan_costs</th>\n",
              "      <th>total_units</th>\n",
              "      <th>accepted</th>\n",
              "      <th>denial_reason</th>\n",
              "    </tr>\n",
              "  </thead>\n",
              "  <tbody>\n",
              "    <tr>\n",
              "      <th>0</th>\n",
              "      <td>2019</td>\n",
              "      <td>TX</td>\n",
              "      <td>48201.0</td>\n",
              "      <td>26420.0</td>\n",
              "      <td>4.820142e+10</td>\n",
              "      <td>45-54</td>\n",
              "      <td>0</td>\n",
              "      <td>Native Hawaiian or Other Pacific Islander</td>\n",
              "      <td>Hispanic or Latino</td>\n",
              "      <td>Male</td>\n",
              "      <td>26.0</td>\n",
              "      <td>&gt;60%</td>\n",
              "      <td>2331.0</td>\n",
              "      <td>39.0</td>\n",
              "      <td>84.39</td>\n",
              "      <td>6949.0</td>\n",
              "      <td>86.0</td>\n",
              "      <td>7H6GLXDRUGQFU57RNE97</td>\n",
              "      <td>NaN</td>\n",
              "      <td>No Purchaser</td>\n",
              "      <td>77100.0</td>\n",
              "      <td>0</td>\n",
              "      <td>0</td>\n",
              "      <td>99.640</td>\n",
              "      <td>C</td>\n",
              "      <td>Site-built</td>\n",
              "      <td>0.0</td>\n",
              "      <td>0.000</td>\n",
              "      <td>0.0</td>\n",
              "      <td>95000.0</td>\n",
              "      <td>Conventional</td>\n",
              "      <td>Subordinate Lien</td>\n",
              "      <td>Principal residence</td>\n",
              "      <td>155000.0</td>\n",
              "      <td>0.0</td>\n",
              "      <td>1</td>\n",
              "      <td>0.0</td>\n",
              "      <td>Debt-to-income ratio</td>\n",
              "    </tr>\n",
              "    <tr>\n",
              "      <th>1</th>\n",
              "      <td>2019</td>\n",
              "      <td>TX</td>\n",
              "      <td>48201.0</td>\n",
              "      <td>26420.0</td>\n",
              "      <td>4.820143e+10</td>\n",
              "      <td>55-64</td>\n",
              "      <td>0</td>\n",
              "      <td>White</td>\n",
              "      <td>Not Hispanic or Latino</td>\n",
              "      <td>Joint</td>\n",
              "      <td>379.0</td>\n",
              "      <td>&gt;60%</td>\n",
              "      <td>1202.0</td>\n",
              "      <td>35.0</td>\n",
              "      <td>24.86</td>\n",
              "      <td>3270.0</td>\n",
              "      <td>360.0</td>\n",
              "      <td>7H6GLXDRUGQFU57RNE97</td>\n",
              "      <td>NaN</td>\n",
              "      <td>No Purchaser</td>\n",
              "      <td>77100.0</td>\n",
              "      <td>0</td>\n",
              "      <td>0</td>\n",
              "      <td>68.617</td>\n",
              "      <td>NC</td>\n",
              "      <td>Site-built</td>\n",
              "      <td>0.0</td>\n",
              "      <td>0.000</td>\n",
              "      <td>0.0</td>\n",
              "      <td>3225000.0</td>\n",
              "      <td>Conventional</td>\n",
              "      <td>First Lien</td>\n",
              "      <td>Principal residence</td>\n",
              "      <td>4705000.0</td>\n",
              "      <td>0.0</td>\n",
              "      <td>1</td>\n",
              "      <td>0.0</td>\n",
              "      <td>Debt-to-income ratio</td>\n",
              "    </tr>\n",
              "    <tr>\n",
              "      <th>2</th>\n",
              "      <td>2019</td>\n",
              "      <td>TX</td>\n",
              "      <td>48201.0</td>\n",
              "      <td>26420.0</td>\n",
              "      <td>4.820122e+10</td>\n",
              "      <td>45-54</td>\n",
              "      <td>0</td>\n",
              "      <td>Asian</td>\n",
              "      <td>Hispanic or Latino</td>\n",
              "      <td>Joint</td>\n",
              "      <td>86.0</td>\n",
              "      <td>41%-&lt;46%</td>\n",
              "      <td>1261.0</td>\n",
              "      <td>45.0</td>\n",
              "      <td>89.71</td>\n",
              "      <td>4803.0</td>\n",
              "      <td>50.0</td>\n",
              "      <td>7H6GLXDRUGQFU57RNE97</td>\n",
              "      <td>NaN</td>\n",
              "      <td>No Purchaser</td>\n",
              "      <td>77100.0</td>\n",
              "      <td>0</td>\n",
              "      <td>0</td>\n",
              "      <td>58.330</td>\n",
              "      <td>C</td>\n",
              "      <td>Site-built</td>\n",
              "      <td>0.0</td>\n",
              "      <td>6.010</td>\n",
              "      <td>0.0</td>\n",
              "      <td>105000.0</td>\n",
              "      <td>Conventional</td>\n",
              "      <td>First Lien</td>\n",
              "      <td>Principal residence</td>\n",
              "      <td>185000.0</td>\n",
              "      <td>0.0</td>\n",
              "      <td>1</td>\n",
              "      <td>1.0</td>\n",
              "      <td>Accepted</td>\n",
              "    </tr>\n",
              "    <tr>\n",
              "      <th>3</th>\n",
              "      <td>2019</td>\n",
              "      <td>TX</td>\n",
              "      <td>48201.0</td>\n",
              "      <td>26420.0</td>\n",
              "      <td>4.820152e+10</td>\n",
              "      <td>55-64</td>\n",
              "      <td>1</td>\n",
              "      <td>White</td>\n",
              "      <td>Hispanic or Latino</td>\n",
              "      <td>Female</td>\n",
              "      <td>25.0</td>\n",
              "      <td>36%-&lt;41%</td>\n",
              "      <td>651.0</td>\n",
              "      <td>41.0</td>\n",
              "      <td>75.32</td>\n",
              "      <td>3991.0</td>\n",
              "      <td>66.0</td>\n",
              "      <td>7H6GLXDRUGQFU57RNE97</td>\n",
              "      <td>NaN</td>\n",
              "      <td>No Purchaser</td>\n",
              "      <td>77100.0</td>\n",
              "      <td>0</td>\n",
              "      <td>0</td>\n",
              "      <td>18.220</td>\n",
              "      <td>C</td>\n",
              "      <td>Site-built</td>\n",
              "      <td>0.0</td>\n",
              "      <td>6.125</td>\n",
              "      <td>0.0</td>\n",
              "      <td>65000.0</td>\n",
              "      <td>Conventional</td>\n",
              "      <td>First Lien</td>\n",
              "      <td>Principal residence</td>\n",
              "      <td>375000.0</td>\n",
              "      <td>0.0</td>\n",
              "      <td>1</td>\n",
              "      <td>1.0</td>\n",
              "      <td>Accepted</td>\n",
              "    </tr>\n",
              "    <tr>\n",
              "      <th>4</th>\n",
              "      <td>2019</td>\n",
              "      <td>TX</td>\n",
              "      <td>48201.0</td>\n",
              "      <td>26420.0</td>\n",
              "      <td>4.820133e+10</td>\n",
              "      <td>65-74</td>\n",
              "      <td>1</td>\n",
              "      <td>White</td>\n",
              "      <td>Not Hispanic or Latino</td>\n",
              "      <td>Male</td>\n",
              "      <td>33.0</td>\n",
              "      <td>20%-&lt;30%</td>\n",
              "      <td>871.0</td>\n",
              "      <td>44.0</td>\n",
              "      <td>94.26</td>\n",
              "      <td>6028.0</td>\n",
              "      <td>52.0</td>\n",
              "      <td>7H6GLXDRUGQFU57RNE97</td>\n",
              "      <td>NaN</td>\n",
              "      <td>No Purchaser</td>\n",
              "      <td>77100.0</td>\n",
              "      <td>0</td>\n",
              "      <td>0</td>\n",
              "      <td>30.330</td>\n",
              "      <td>C</td>\n",
              "      <td>Site-built</td>\n",
              "      <td>0.0</td>\n",
              "      <td>4.500</td>\n",
              "      <td>0.0</td>\n",
              "      <td>75000.0</td>\n",
              "      <td>Conventional</td>\n",
              "      <td>First Lien</td>\n",
              "      <td>Principal residence</td>\n",
              "      <td>235000.0</td>\n",
              "      <td>0.0</td>\n",
              "      <td>1</td>\n",
              "      <td>1.0</td>\n",
              "      <td>Accepted</td>\n",
              "    </tr>\n",
              "  </tbody>\n",
              "</table>\n",
              "</div>\n",
              "      <button class=\"colab-df-convert\" onclick=\"convertToInteractive('df-682e4b68-347b-4c8a-bcfc-9f7fb2979a5e')\"\n",
              "              title=\"Convert this dataframe to an interactive table.\"\n",
              "              style=\"display:none;\">\n",
              "        \n",
              "  <svg xmlns=\"http://www.w3.org/2000/svg\" height=\"24px\"viewBox=\"0 0 24 24\"\n",
              "       width=\"24px\">\n",
              "    <path d=\"M0 0h24v24H0V0z\" fill=\"none\"/>\n",
              "    <path d=\"M18.56 5.44l.94 2.06.94-2.06 2.06-.94-2.06-.94-.94-2.06-.94 2.06-2.06.94zm-11 1L8.5 8.5l.94-2.06 2.06-.94-2.06-.94L8.5 2.5l-.94 2.06-2.06.94zm10 10l.94 2.06.94-2.06 2.06-.94-2.06-.94-.94-2.06-.94 2.06-2.06.94z\"/><path d=\"M17.41 7.96l-1.37-1.37c-.4-.4-.92-.59-1.43-.59-.52 0-1.04.2-1.43.59L10.3 9.45l-7.72 7.72c-.78.78-.78 2.05 0 2.83L4 21.41c.39.39.9.59 1.41.59.51 0 1.02-.2 1.41-.59l7.78-7.78 2.81-2.81c.8-.78.8-2.07 0-2.86zM5.41 20L4 18.59l7.72-7.72 1.47 1.35L5.41 20z\"/>\n",
              "  </svg>\n",
              "      </button>\n",
              "      \n",
              "  <style>\n",
              "    .colab-df-container {\n",
              "      display:flex;\n",
              "      flex-wrap:wrap;\n",
              "      gap: 12px;\n",
              "    }\n",
              "\n",
              "    .colab-df-convert {\n",
              "      background-color: #E8F0FE;\n",
              "      border: none;\n",
              "      border-radius: 50%;\n",
              "      cursor: pointer;\n",
              "      display: none;\n",
              "      fill: #1967D2;\n",
              "      height: 32px;\n",
              "      padding: 0 0 0 0;\n",
              "      width: 32px;\n",
              "    }\n",
              "\n",
              "    .colab-df-convert:hover {\n",
              "      background-color: #E2EBFA;\n",
              "      box-shadow: 0px 1px 2px rgba(60, 64, 67, 0.3), 0px 1px 3px 1px rgba(60, 64, 67, 0.15);\n",
              "      fill: #174EA6;\n",
              "    }\n",
              "\n",
              "    [theme=dark] .colab-df-convert {\n",
              "      background-color: #3B4455;\n",
              "      fill: #D2E3FC;\n",
              "    }\n",
              "\n",
              "    [theme=dark] .colab-df-convert:hover {\n",
              "      background-color: #434B5C;\n",
              "      box-shadow: 0px 1px 3px 1px rgba(0, 0, 0, 0.15);\n",
              "      filter: drop-shadow(0px 1px 2px rgba(0, 0, 0, 0.3));\n",
              "      fill: #FFFFFF;\n",
              "    }\n",
              "  </style>\n",
              "\n",
              "      <script>\n",
              "        const buttonEl =\n",
              "          document.querySelector('#df-682e4b68-347b-4c8a-bcfc-9f7fb2979a5e button.colab-df-convert');\n",
              "        buttonEl.style.display =\n",
              "          google.colab.kernel.accessAllowed ? 'block' : 'none';\n",
              "\n",
              "        async function convertToInteractive(key) {\n",
              "          const element = document.querySelector('#df-682e4b68-347b-4c8a-bcfc-9f7fb2979a5e');\n",
              "          const dataTable =\n",
              "            await google.colab.kernel.invokeFunction('convertToInteractive',\n",
              "                                                     [key], {});\n",
              "          if (!dataTable) return;\n",
              "\n",
              "          const docLinkHtml = 'Like what you see? Visit the ' +\n",
              "            '<a target=\"_blank\" href=https://colab.research.google.com/notebooks/data_table.ipynb>data table notebook</a>'\n",
              "            + ' to learn more about interactive tables.';\n",
              "          element.innerHTML = '';\n",
              "          dataTable['output_type'] = 'display_data';\n",
              "          await google.colab.output.renderOutput(dataTable, element);\n",
              "          const docLink = document.createElement('div');\n",
              "          docLink.innerHTML = docLinkHtml;\n",
              "          element.appendChild(docLink);\n",
              "        }\n",
              "      </script>\n",
              "    </div>\n",
              "  </div>\n",
              "  "
            ],
            "text/plain": [
              "   year state_code  county_code  ...  total_units  accepted         denial_reason\n",
              "0  2019         TX      48201.0  ...            1       0.0  Debt-to-income ratio\n",
              "1  2019         TX      48201.0  ...            1       0.0  Debt-to-income ratio\n",
              "2  2019         TX      48201.0  ...            1       1.0              Accepted\n",
              "3  2019         TX      48201.0  ...            1       1.0              Accepted\n",
              "4  2019         TX      48201.0  ...            1       1.0              Accepted\n",
              "\n",
              "[5 rows x 38 columns]"
            ]
          },
          "metadata": {},
          "execution_count": 1388
        }
      ],
      "source": [
        "loanSet.head()"
      ]
    },
    {
      "cell_type": "code",
      "source": [
        "loanSet['purchaser_type'].unique()"
      ],
      "metadata": {
        "id": "JgdwTchp0IS9",
        "colab": {
          "base_uri": "https://localhost:8080/"
        },
        "outputId": "caad7b1f-fdfb-464c-9caa-3abcb76e0333"
      },
      "execution_count": null,
      "outputs": [
        {
          "output_type": "execute_result",
          "data": {
            "text/plain": [
              "array(['No Purchaser',\n",
              "       'Commercial bank, savings bank, or savings association',\n",
              "       'Ginnie Mae', 'Freddie Mac', 'Fannie Mae',\n",
              "       'Other type of purchaser', 'Affiliate institution',\n",
              "       'Credit union, mortgage company, or finance company',\n",
              "       'Life insurance company', 'Private securitizer', 'Farmer Mac'],\n",
              "      dtype=object)"
            ]
          },
          "metadata": {},
          "execution_count": 1389
        }
      ]
    },
    {
      "cell_type": "code",
      "execution_count": null,
      "metadata": {
        "id": "-FdLMuX5t2hD"
      },
      "outputs": [],
      "source": [
        "# dropping several fields with high rates of null values, as they were not useful in our evaluation\n",
        "loanSet.drop(['aus', 'lei', 'state_code', 'denial_reason', 'conforming_loan_limit'], axis=1, inplace=True)"
      ]
    },
    {
      "cell_type": "code",
      "execution_count": null,
      "metadata": {
        "id": "pYA-acU5-bq6"
      },
      "outputs": [],
      "source": [
        "# lastly, droppping leftover rows with null values as they represent mistakes or unknowns that are not useful to work with\n",
        "loanSet.isna().sum()\n",
        "loanSet.dropna(inplace = True)"
      ]
    },
    {
      "cell_type": "code",
      "source": [
        "loanSet"
      ],
      "metadata": {
        "id": "qUmWMHoEq-2d",
        "colab": {
          "base_uri": "https://localhost:8080/",
          "height": 800
        },
        "outputId": "54f26574-5ef9-4d22-8bf9-58f2c5aad130"
      },
      "execution_count": null,
      "outputs": [
        {
          "output_type": "execute_result",
          "data": {
            "text/html": [
              "\n",
              "  <div id=\"df-121790d0-edb4-4cd2-903c-9268fef4a5f9\">\n",
              "    <div class=\"colab-df-container\">\n",
              "      <div>\n",
              "<style scoped>\n",
              "    .dataframe tbody tr th:only-of-type {\n",
              "        vertical-align: middle;\n",
              "    }\n",
              "\n",
              "    .dataframe tbody tr th {\n",
              "        vertical-align: top;\n",
              "    }\n",
              "\n",
              "    .dataframe thead th {\n",
              "        text-align: right;\n",
              "    }\n",
              "</style>\n",
              "<table border=\"1\" class=\"dataframe\">\n",
              "  <thead>\n",
              "    <tr style=\"text-align: right;\">\n",
              "      <th></th>\n",
              "      <th>year</th>\n",
              "      <th>county_code</th>\n",
              "      <th>msa</th>\n",
              "      <th>census_tract</th>\n",
              "      <th>applicant_age</th>\n",
              "      <th>applicant_age_above_62</th>\n",
              "      <th>race</th>\n",
              "      <th>ethnicity</th>\n",
              "      <th>sex</th>\n",
              "      <th>income</th>\n",
              "      <th>debt_to_income_ratio</th>\n",
              "      <th>tract_one_to_four_family_homes</th>\n",
              "      <th>tract_median_age_of_hu</th>\n",
              "      <th>tract_minority_pop_percent</th>\n",
              "      <th>tract_population</th>\n",
              "      <th>tract_to_msa_income_percentage</th>\n",
              "      <th>purchaser_type</th>\n",
              "      <th>ffiec_msa_md_median_fam_income</th>\n",
              "      <th>balloon_payment</th>\n",
              "      <th>business_or_commercial_purpose</th>\n",
              "      <th>combined_loan_to_value_ratio</th>\n",
              "      <th>construction_method</th>\n",
              "      <th>discount_points</th>\n",
              "      <th>interest_rate</th>\n",
              "      <th>lender_credits</th>\n",
              "      <th>loan_amount</th>\n",
              "      <th>loan_type</th>\n",
              "      <th>lien_status</th>\n",
              "      <th>occupancy_type</th>\n",
              "      <th>property_value</th>\n",
              "      <th>total_loan_costs</th>\n",
              "      <th>total_units</th>\n",
              "      <th>accepted</th>\n",
              "    </tr>\n",
              "  </thead>\n",
              "  <tbody>\n",
              "    <tr>\n",
              "      <th>0</th>\n",
              "      <td>2019</td>\n",
              "      <td>48201.0</td>\n",
              "      <td>26420.0</td>\n",
              "      <td>4.820142e+10</td>\n",
              "      <td>45-54</td>\n",
              "      <td>0</td>\n",
              "      <td>Native Hawaiian or Other Pacific Islander</td>\n",
              "      <td>Hispanic or Latino</td>\n",
              "      <td>Male</td>\n",
              "      <td>26.0</td>\n",
              "      <td>&gt;60%</td>\n",
              "      <td>2331.0</td>\n",
              "      <td>39.0</td>\n",
              "      <td>84.39</td>\n",
              "      <td>6949.0</td>\n",
              "      <td>86.0</td>\n",
              "      <td>No Purchaser</td>\n",
              "      <td>77100.0</td>\n",
              "      <td>0</td>\n",
              "      <td>0</td>\n",
              "      <td>99.640</td>\n",
              "      <td>Site-built</td>\n",
              "      <td>0.0</td>\n",
              "      <td>0.000</td>\n",
              "      <td>0.0</td>\n",
              "      <td>95000.0</td>\n",
              "      <td>Conventional</td>\n",
              "      <td>Subordinate Lien</td>\n",
              "      <td>Principal residence</td>\n",
              "      <td>155000.0</td>\n",
              "      <td>0.00</td>\n",
              "      <td>1</td>\n",
              "      <td>0.0</td>\n",
              "    </tr>\n",
              "    <tr>\n",
              "      <th>1</th>\n",
              "      <td>2019</td>\n",
              "      <td>48201.0</td>\n",
              "      <td>26420.0</td>\n",
              "      <td>4.820143e+10</td>\n",
              "      <td>55-64</td>\n",
              "      <td>0</td>\n",
              "      <td>White</td>\n",
              "      <td>Not Hispanic or Latino</td>\n",
              "      <td>Joint</td>\n",
              "      <td>379.0</td>\n",
              "      <td>&gt;60%</td>\n",
              "      <td>1202.0</td>\n",
              "      <td>35.0</td>\n",
              "      <td>24.86</td>\n",
              "      <td>3270.0</td>\n",
              "      <td>360.0</td>\n",
              "      <td>No Purchaser</td>\n",
              "      <td>77100.0</td>\n",
              "      <td>0</td>\n",
              "      <td>0</td>\n",
              "      <td>68.617</td>\n",
              "      <td>Site-built</td>\n",
              "      <td>0.0</td>\n",
              "      <td>0.000</td>\n",
              "      <td>0.0</td>\n",
              "      <td>3225000.0</td>\n",
              "      <td>Conventional</td>\n",
              "      <td>First Lien</td>\n",
              "      <td>Principal residence</td>\n",
              "      <td>4705000.0</td>\n",
              "      <td>0.00</td>\n",
              "      <td>1</td>\n",
              "      <td>0.0</td>\n",
              "    </tr>\n",
              "    <tr>\n",
              "      <th>2</th>\n",
              "      <td>2019</td>\n",
              "      <td>48201.0</td>\n",
              "      <td>26420.0</td>\n",
              "      <td>4.820122e+10</td>\n",
              "      <td>45-54</td>\n",
              "      <td>0</td>\n",
              "      <td>Asian</td>\n",
              "      <td>Hispanic or Latino</td>\n",
              "      <td>Joint</td>\n",
              "      <td>86.0</td>\n",
              "      <td>41%-&lt;46%</td>\n",
              "      <td>1261.0</td>\n",
              "      <td>45.0</td>\n",
              "      <td>89.71</td>\n",
              "      <td>4803.0</td>\n",
              "      <td>50.0</td>\n",
              "      <td>No Purchaser</td>\n",
              "      <td>77100.0</td>\n",
              "      <td>0</td>\n",
              "      <td>0</td>\n",
              "      <td>58.330</td>\n",
              "      <td>Site-built</td>\n",
              "      <td>0.0</td>\n",
              "      <td>6.010</td>\n",
              "      <td>0.0</td>\n",
              "      <td>105000.0</td>\n",
              "      <td>Conventional</td>\n",
              "      <td>First Lien</td>\n",
              "      <td>Principal residence</td>\n",
              "      <td>185000.0</td>\n",
              "      <td>0.00</td>\n",
              "      <td>1</td>\n",
              "      <td>1.0</td>\n",
              "    </tr>\n",
              "    <tr>\n",
              "      <th>3</th>\n",
              "      <td>2019</td>\n",
              "      <td>48201.0</td>\n",
              "      <td>26420.0</td>\n",
              "      <td>4.820152e+10</td>\n",
              "      <td>55-64</td>\n",
              "      <td>1</td>\n",
              "      <td>White</td>\n",
              "      <td>Hispanic or Latino</td>\n",
              "      <td>Female</td>\n",
              "      <td>25.0</td>\n",
              "      <td>36%-&lt;41%</td>\n",
              "      <td>651.0</td>\n",
              "      <td>41.0</td>\n",
              "      <td>75.32</td>\n",
              "      <td>3991.0</td>\n",
              "      <td>66.0</td>\n",
              "      <td>No Purchaser</td>\n",
              "      <td>77100.0</td>\n",
              "      <td>0</td>\n",
              "      <td>0</td>\n",
              "      <td>18.220</td>\n",
              "      <td>Site-built</td>\n",
              "      <td>0.0</td>\n",
              "      <td>6.125</td>\n",
              "      <td>0.0</td>\n",
              "      <td>65000.0</td>\n",
              "      <td>Conventional</td>\n",
              "      <td>First Lien</td>\n",
              "      <td>Principal residence</td>\n",
              "      <td>375000.0</td>\n",
              "      <td>0.00</td>\n",
              "      <td>1</td>\n",
              "      <td>1.0</td>\n",
              "    </tr>\n",
              "    <tr>\n",
              "      <th>4</th>\n",
              "      <td>2019</td>\n",
              "      <td>48201.0</td>\n",
              "      <td>26420.0</td>\n",
              "      <td>4.820133e+10</td>\n",
              "      <td>65-74</td>\n",
              "      <td>1</td>\n",
              "      <td>White</td>\n",
              "      <td>Not Hispanic or Latino</td>\n",
              "      <td>Male</td>\n",
              "      <td>33.0</td>\n",
              "      <td>20%-&lt;30%</td>\n",
              "      <td>871.0</td>\n",
              "      <td>44.0</td>\n",
              "      <td>94.26</td>\n",
              "      <td>6028.0</td>\n",
              "      <td>52.0</td>\n",
              "      <td>No Purchaser</td>\n",
              "      <td>77100.0</td>\n",
              "      <td>0</td>\n",
              "      <td>0</td>\n",
              "      <td>30.330</td>\n",
              "      <td>Site-built</td>\n",
              "      <td>0.0</td>\n",
              "      <td>4.500</td>\n",
              "      <td>0.0</td>\n",
              "      <td>75000.0</td>\n",
              "      <td>Conventional</td>\n",
              "      <td>First Lien</td>\n",
              "      <td>Principal residence</td>\n",
              "      <td>235000.0</td>\n",
              "      <td>0.00</td>\n",
              "      <td>1</td>\n",
              "      <td>1.0</td>\n",
              "    </tr>\n",
              "    <tr>\n",
              "      <th>...</th>\n",
              "      <td>...</td>\n",
              "      <td>...</td>\n",
              "      <td>...</td>\n",
              "      <td>...</td>\n",
              "      <td>...</td>\n",
              "      <td>...</td>\n",
              "      <td>...</td>\n",
              "      <td>...</td>\n",
              "      <td>...</td>\n",
              "      <td>...</td>\n",
              "      <td>...</td>\n",
              "      <td>...</td>\n",
              "      <td>...</td>\n",
              "      <td>...</td>\n",
              "      <td>...</td>\n",
              "      <td>...</td>\n",
              "      <td>...</td>\n",
              "      <td>...</td>\n",
              "      <td>...</td>\n",
              "      <td>...</td>\n",
              "      <td>...</td>\n",
              "      <td>...</td>\n",
              "      <td>...</td>\n",
              "      <td>...</td>\n",
              "      <td>...</td>\n",
              "      <td>...</td>\n",
              "      <td>...</td>\n",
              "      <td>...</td>\n",
              "      <td>...</td>\n",
              "      <td>...</td>\n",
              "      <td>...</td>\n",
              "      <td>...</td>\n",
              "      <td>...</td>\n",
              "    </tr>\n",
              "    <tr>\n",
              "      <th>136256</th>\n",
              "      <td>2020</td>\n",
              "      <td>48201.0</td>\n",
              "      <td>26420.0</td>\n",
              "      <td>4.820131e+10</td>\n",
              "      <td>55-64</td>\n",
              "      <td>0</td>\n",
              "      <td>White</td>\n",
              "      <td>Not Hispanic or Latino</td>\n",
              "      <td>Male</td>\n",
              "      <td>330.0</td>\n",
              "      <td>50%-60%</td>\n",
              "      <td>384.0</td>\n",
              "      <td>17.0</td>\n",
              "      <td>50.52</td>\n",
              "      <td>3193.0</td>\n",
              "      <td>200.0</td>\n",
              "      <td>No Purchaser</td>\n",
              "      <td>80000.0</td>\n",
              "      <td>0</td>\n",
              "      <td>1</td>\n",
              "      <td>80.000</td>\n",
              "      <td>Site-built</td>\n",
              "      <td>0.0</td>\n",
              "      <td>0.000</td>\n",
              "      <td>0.0</td>\n",
              "      <td>245000.0</td>\n",
              "      <td>Conventional</td>\n",
              "      <td>First Lien</td>\n",
              "      <td>Investment property</td>\n",
              "      <td>305000.0</td>\n",
              "      <td>0.00</td>\n",
              "      <td>1</td>\n",
              "      <td>0.0</td>\n",
              "    </tr>\n",
              "    <tr>\n",
              "      <th>136257</th>\n",
              "      <td>2020</td>\n",
              "      <td>48201.0</td>\n",
              "      <td>26420.0</td>\n",
              "      <td>4.820155e+10</td>\n",
              "      <td>55-64</td>\n",
              "      <td>0</td>\n",
              "      <td>White</td>\n",
              "      <td>Not Hispanic or Latino</td>\n",
              "      <td>Male</td>\n",
              "      <td>138.0</td>\n",
              "      <td>30%-&lt;36%</td>\n",
              "      <td>2639.0</td>\n",
              "      <td>24.0</td>\n",
              "      <td>47.16</td>\n",
              "      <td>7452.0</td>\n",
              "      <td>144.0</td>\n",
              "      <td>Freddie Mac</td>\n",
              "      <td>80000.0</td>\n",
              "      <td>0</td>\n",
              "      <td>0</td>\n",
              "      <td>61.000</td>\n",
              "      <td>Site-built</td>\n",
              "      <td>0.0</td>\n",
              "      <td>2.500</td>\n",
              "      <td>0.0</td>\n",
              "      <td>255000.0</td>\n",
              "      <td>Conventional</td>\n",
              "      <td>First Lien</td>\n",
              "      <td>Principal residence</td>\n",
              "      <td>415000.0</td>\n",
              "      <td>5022.77</td>\n",
              "      <td>1</td>\n",
              "      <td>1.0</td>\n",
              "    </tr>\n",
              "    <tr>\n",
              "      <th>136258</th>\n",
              "      <td>2020</td>\n",
              "      <td>48201.0</td>\n",
              "      <td>26420.0</td>\n",
              "      <td>4.820132e+10</td>\n",
              "      <td>35-44</td>\n",
              "      <td>0</td>\n",
              "      <td>White</td>\n",
              "      <td>Hispanic or Latino</td>\n",
              "      <td>Female</td>\n",
              "      <td>106.0</td>\n",
              "      <td>&gt;60%</td>\n",
              "      <td>2022.0</td>\n",
              "      <td>55.0</td>\n",
              "      <td>76.81</td>\n",
              "      <td>7732.0</td>\n",
              "      <td>58.0</td>\n",
              "      <td>No Purchaser</td>\n",
              "      <td>80000.0</td>\n",
              "      <td>0</td>\n",
              "      <td>0</td>\n",
              "      <td>100.000</td>\n",
              "      <td>Site-built</td>\n",
              "      <td>0.0</td>\n",
              "      <td>0.000</td>\n",
              "      <td>0.0</td>\n",
              "      <td>135000.0</td>\n",
              "      <td>FHA</td>\n",
              "      <td>First Lien</td>\n",
              "      <td>Principal residence</td>\n",
              "      <td>135000.0</td>\n",
              "      <td>0.00</td>\n",
              "      <td>1</td>\n",
              "      <td>0.0</td>\n",
              "    </tr>\n",
              "    <tr>\n",
              "      <th>136259</th>\n",
              "      <td>2020</td>\n",
              "      <td>48201.0</td>\n",
              "      <td>26420.0</td>\n",
              "      <td>4.820125e+10</td>\n",
              "      <td>25-34</td>\n",
              "      <td>0</td>\n",
              "      <td>White</td>\n",
              "      <td>Hispanic or Latino</td>\n",
              "      <td>Male</td>\n",
              "      <td>91.0</td>\n",
              "      <td>30%-&lt;36%</td>\n",
              "      <td>2134.0</td>\n",
              "      <td>32.0</td>\n",
              "      <td>20.22</td>\n",
              "      <td>6062.0</td>\n",
              "      <td>117.0</td>\n",
              "      <td>Freddie Mac</td>\n",
              "      <td>80000.0</td>\n",
              "      <td>0</td>\n",
              "      <td>0</td>\n",
              "      <td>95.000</td>\n",
              "      <td>Site-built</td>\n",
              "      <td>0.0</td>\n",
              "      <td>3.875</td>\n",
              "      <td>0.0</td>\n",
              "      <td>215000.0</td>\n",
              "      <td>Conventional</td>\n",
              "      <td>First Lien</td>\n",
              "      <td>Principal residence</td>\n",
              "      <td>225000.0</td>\n",
              "      <td>2917.68</td>\n",
              "      <td>1</td>\n",
              "      <td>1.0</td>\n",
              "    </tr>\n",
              "    <tr>\n",
              "      <th>136260</th>\n",
              "      <td>2020</td>\n",
              "      <td>48201.0</td>\n",
              "      <td>26420.0</td>\n",
              "      <td>4.820154e+10</td>\n",
              "      <td>25-34</td>\n",
              "      <td>0</td>\n",
              "      <td>White</td>\n",
              "      <td>Not Hispanic or Latino</td>\n",
              "      <td>Joint</td>\n",
              "      <td>127.0</td>\n",
              "      <td>30%-&lt;36%</td>\n",
              "      <td>4160.0</td>\n",
              "      <td>17.0</td>\n",
              "      <td>59.04</td>\n",
              "      <td>13428.0</td>\n",
              "      <td>117.0</td>\n",
              "      <td>No Purchaser</td>\n",
              "      <td>80000.0</td>\n",
              "      <td>0</td>\n",
              "      <td>0</td>\n",
              "      <td>101.750</td>\n",
              "      <td>Site-built</td>\n",
              "      <td>0.0</td>\n",
              "      <td>5.000</td>\n",
              "      <td>0.0</td>\n",
              "      <td>235000.0</td>\n",
              "      <td>Conventional</td>\n",
              "      <td>First Lien</td>\n",
              "      <td>Principal residence</td>\n",
              "      <td>235000.0</td>\n",
              "      <td>7534.37</td>\n",
              "      <td>1</td>\n",
              "      <td>1.0</td>\n",
              "    </tr>\n",
              "  </tbody>\n",
              "</table>\n",
              "<p>127961 rows × 33 columns</p>\n",
              "</div>\n",
              "      <button class=\"colab-df-convert\" onclick=\"convertToInteractive('df-121790d0-edb4-4cd2-903c-9268fef4a5f9')\"\n",
              "              title=\"Convert this dataframe to an interactive table.\"\n",
              "              style=\"display:none;\">\n",
              "        \n",
              "  <svg xmlns=\"http://www.w3.org/2000/svg\" height=\"24px\"viewBox=\"0 0 24 24\"\n",
              "       width=\"24px\">\n",
              "    <path d=\"M0 0h24v24H0V0z\" fill=\"none\"/>\n",
              "    <path d=\"M18.56 5.44l.94 2.06.94-2.06 2.06-.94-2.06-.94-.94-2.06-.94 2.06-2.06.94zm-11 1L8.5 8.5l.94-2.06 2.06-.94-2.06-.94L8.5 2.5l-.94 2.06-2.06.94zm10 10l.94 2.06.94-2.06 2.06-.94-2.06-.94-.94-2.06-.94 2.06-2.06.94z\"/><path d=\"M17.41 7.96l-1.37-1.37c-.4-.4-.92-.59-1.43-.59-.52 0-1.04.2-1.43.59L10.3 9.45l-7.72 7.72c-.78.78-.78 2.05 0 2.83L4 21.41c.39.39.9.59 1.41.59.51 0 1.02-.2 1.41-.59l7.78-7.78 2.81-2.81c.8-.78.8-2.07 0-2.86zM5.41 20L4 18.59l7.72-7.72 1.47 1.35L5.41 20z\"/>\n",
              "  </svg>\n",
              "      </button>\n",
              "      \n",
              "  <style>\n",
              "    .colab-df-container {\n",
              "      display:flex;\n",
              "      flex-wrap:wrap;\n",
              "      gap: 12px;\n",
              "    }\n",
              "\n",
              "    .colab-df-convert {\n",
              "      background-color: #E8F0FE;\n",
              "      border: none;\n",
              "      border-radius: 50%;\n",
              "      cursor: pointer;\n",
              "      display: none;\n",
              "      fill: #1967D2;\n",
              "      height: 32px;\n",
              "      padding: 0 0 0 0;\n",
              "      width: 32px;\n",
              "    }\n",
              "\n",
              "    .colab-df-convert:hover {\n",
              "      background-color: #E2EBFA;\n",
              "      box-shadow: 0px 1px 2px rgba(60, 64, 67, 0.3), 0px 1px 3px 1px rgba(60, 64, 67, 0.15);\n",
              "      fill: #174EA6;\n",
              "    }\n",
              "\n",
              "    [theme=dark] .colab-df-convert {\n",
              "      background-color: #3B4455;\n",
              "      fill: #D2E3FC;\n",
              "    }\n",
              "\n",
              "    [theme=dark] .colab-df-convert:hover {\n",
              "      background-color: #434B5C;\n",
              "      box-shadow: 0px 1px 3px 1px rgba(0, 0, 0, 0.15);\n",
              "      filter: drop-shadow(0px 1px 2px rgba(0, 0, 0, 0.3));\n",
              "      fill: #FFFFFF;\n",
              "    }\n",
              "  </style>\n",
              "\n",
              "      <script>\n",
              "        const buttonEl =\n",
              "          document.querySelector('#df-121790d0-edb4-4cd2-903c-9268fef4a5f9 button.colab-df-convert');\n",
              "        buttonEl.style.display =\n",
              "          google.colab.kernel.accessAllowed ? 'block' : 'none';\n",
              "\n",
              "        async function convertToInteractive(key) {\n",
              "          const element = document.querySelector('#df-121790d0-edb4-4cd2-903c-9268fef4a5f9');\n",
              "          const dataTable =\n",
              "            await google.colab.kernel.invokeFunction('convertToInteractive',\n",
              "                                                     [key], {});\n",
              "          if (!dataTable) return;\n",
              "\n",
              "          const docLinkHtml = 'Like what you see? Visit the ' +\n",
              "            '<a target=\"_blank\" href=https://colab.research.google.com/notebooks/data_table.ipynb>data table notebook</a>'\n",
              "            + ' to learn more about interactive tables.';\n",
              "          element.innerHTML = '';\n",
              "          dataTable['output_type'] = 'display_data';\n",
              "          await google.colab.output.renderOutput(dataTable, element);\n",
              "          const docLink = document.createElement('div');\n",
              "          docLink.innerHTML = docLinkHtml;\n",
              "          element.appendChild(docLink);\n",
              "        }\n",
              "      </script>\n",
              "    </div>\n",
              "  </div>\n",
              "  "
            ],
            "text/plain": [
              "        year  county_code      msa  ...  total_loan_costs total_units  accepted\n",
              "0       2019      48201.0  26420.0  ...              0.00           1       0.0\n",
              "1       2019      48201.0  26420.0  ...              0.00           1       0.0\n",
              "2       2019      48201.0  26420.0  ...              0.00           1       1.0\n",
              "3       2019      48201.0  26420.0  ...              0.00           1       1.0\n",
              "4       2019      48201.0  26420.0  ...              0.00           1       1.0\n",
              "...      ...          ...      ...  ...               ...         ...       ...\n",
              "136256  2020      48201.0  26420.0  ...              0.00           1       0.0\n",
              "136257  2020      48201.0  26420.0  ...           5022.77           1       1.0\n",
              "136258  2020      48201.0  26420.0  ...              0.00           1       0.0\n",
              "136259  2020      48201.0  26420.0  ...           2917.68           1       1.0\n",
              "136260  2020      48201.0  26420.0  ...           7534.37           1       1.0\n",
              "\n",
              "[127961 rows x 33 columns]"
            ]
          },
          "metadata": {},
          "execution_count": 1392
        }
      ]
    },
    {
      "cell_type": "code",
      "source": [
        "# checking to be sure our dataframe is fully complete with a heatmap\n",
        "sns.heatmap(loanSet.isnull(), cbar=False)"
      ],
      "metadata": {
        "id": "hRcto1EJVhua",
        "colab": {
          "base_uri": "https://localhost:8080/",
          "height": 429
        },
        "outputId": "0135b705-50a2-4e5f-e7a0-70eea09dc13a"
      },
      "execution_count": null,
      "outputs": [
        {
          "output_type": "execute_result",
          "data": {
            "text/plain": [
              "<matplotlib.axes._subplots.AxesSubplot at 0x7fab3789ee10>"
            ]
          },
          "metadata": {},
          "execution_count": 1393
        },
        {
          "output_type": "display_data",
          "data": {
            "image/png": "[encoded data removed]",
            "text/plain": [
              "<Figure size 432x288 with 1 Axes>"
            ]
          },
          "metadata": {
            "needs_background": "light"
          }
        }
      ]
    },
    {
      "cell_type": "markdown",
      "source": [
        "## Visualizations"
      ],
      "metadata": {
        "id": "PM_3B2IWt_Ij"
      }
    },
    {
      "cell_type": "markdown",
      "source": [
        "After our data was cleaned and null values removed, we moved into visualization to understand and analyze some relations in our data. We started from a very zoomed out view, then narrowed our focus onto different, interesting relationships."
      ],
      "metadata": {
        "id": "cp6VW0tLrqtZ"
      }
    },
    {
      "cell_type": "code",
      "source": [
        "# this is an initial correlation heatmap to quickly view any correlations that jump out from the rest\n",
        "sns.heatmap(loanSet.corr())"
      ],
      "metadata": {
        "colab": {
          "base_uri": "https://localhost:8080/",
          "height": 453
        },
        "id": "ohL5THyduEDV",
        "outputId": "d736506e-1d76-420c-9562-4a6eb68c70a1"
      },
      "execution_count": null,
      "outputs": [
        {
          "output_type": "execute_result",
          "data": {
            "text/plain": [
              "<matplotlib.axes._subplots.AxesSubplot at 0x7fab379c3e10>"
            ]
          },
          "metadata": {},
          "execution_count": 1394
        },
        {
          "output_type": "display_data",
          "data": {
            "image/png": "[encoded data removed]",
            "text/plain": [
              "<Figure size 432x288 with 2 Axes>"
            ]
          },
          "metadata": {
            "needs_background": "light"
          }
        }
      ]
    },
    {
      "cell_type": "code",
      "source": [
        "# as our first focus is to predict whether a loaner was accepted, we took the highest and lowest correlations against\n",
        "# accepted to look further into\n",
        "top_cor = list(loanSet.corr('pearson').sort_values('accepted', ascending = False).index[:7])"
      ],
      "metadata": {
        "id": "KTKCUl0tuD9Q"
      },
      "execution_count": null,
      "outputs": []
    },
    {
      "cell_type": "code",
      "source": [
        "neg_cor = list(loanSet.corr('pearson').sort_values('accepted', ascending = True).index[:5])"
      ],
      "metadata": {
        "id": "yQ1imm2y4A_l"
      },
      "execution_count": null,
      "outputs": []
    },
    {
      "cell_type": "code",
      "source": [
        "neg_cor.append('accepted')\n",
        "top_cor, neg_cor"
      ],
      "metadata": {
        "colab": {
          "base_uri": "https://localhost:8080/"
        },
        "id": "6f4His_e3aVt",
        "outputId": "27316bd3-811c-49ee-b681-1ddaf6fdf5b5"
      },
      "execution_count": null,
      "outputs": [
        {
          "output_type": "execute_result",
          "data": {
            "text/plain": [
              "(['accepted',\n",
              "  'total_loan_costs',\n",
              "  'discount_points',\n",
              "  'lender_credits',\n",
              "  'interest_rate',\n",
              "  'tract_to_msa_income_percentage',\n",
              "  'loan_amount'],\n",
              " ['tract_minority_pop_percent',\n",
              "  'total_units',\n",
              "  'business_or_commercial_purpose',\n",
              "  'tract_median_age_of_hu',\n",
              "  'applicant_age_above_62',\n",
              "  'accepted'])"
            ]
          },
          "metadata": {},
          "execution_count": 1397
        }
      ]
    },
    {
      "cell_type": "code",
      "source": [
        "# correlation heatmap of highest correlations\n",
        "sns.heatmap(loanSet[top_cor].corr(), annot=True)"
      ],
      "metadata": {
        "id": "e3HL14vjuD6I",
        "colab": {
          "base_uri": "https://localhost:8080/"
        },
        "outputId": "662564b9-b93e-47fb-9270-6554cbe38d14"
      },
      "execution_count": null,
      "outputs": [
        {
          "output_type": "execute_result",
          "data": {
            "text/plain": [
              "<matplotlib.axes._subplots.AxesSubplot at 0x7fab376db210>"
            ]
          },
          "metadata": {},
          "execution_count": 1398
        },
        {
          "output_type": "display_data",
          "data": {
            "image/png": "[encoded data removed]",
            "text/plain": [
              "<Figure size 432x288 with 2 Axes>"
            ]
          },
          "metadata": {
            "needs_background": "light"
          }
        }
      ]
    },
    {
      "cell_type": "code",
      "source": [
        "# correlation heatmap of lowest correlations\n",
        "sns.heatmap(loanSet[neg_cor].corr(), annot=True)"
      ],
      "metadata": {
        "colab": {
          "base_uri": "https://localhost:8080/",
          "height": 72
        },
        "id": "ozmZOqJB4JP4",
        "outputId": "acf41b01-1b7c-4f6a-bb4b-d775f56aab23"
      },
      "execution_count": null,
      "outputs": [
        {
          "output_type": "execute_result",
          "data": {
            "text/plain": [
              "<matplotlib.axes._subplots.AxesSubplot at 0x7fab3765f210>"
            ]
          },
          "metadata": {},
          "execution_count": 1399
        },
        {
          "output_type": "display_data",
          "data": {
            "image/png": "[encoded data removed]",
            "text/plain": [
              "<Figure size 432x288 with 2 Axes>"
            ]
          },
          "metadata": {
            "needs_background": "light"
          }
        }
      ]
    },
    {
      "cell_type": "code",
      "source": [
        "# as each graph with the full dataset was taking a very long time to load, we used a sample dataset of 10,000 rows for easier viewing\n",
        "# and faster loading time\n",
        "sampleSet = loanSet.sample(n = 10000, random_state = 2022)"
      ],
      "metadata": {
        "id": "AKmXpSR-uDwz"
      },
      "execution_count": null,
      "outputs": []
    },
    {
      "cell_type": "code",
      "source": [
        "sampleSet.head()"
      ],
      "metadata": {
        "colab": {
          "base_uri": "https://localhost:8080/",
          "height": 409
        },
        "id": "i5LN-ESa1DET",
        "outputId": "631019de-19b1-4527-b293-4d6c5b96d3b5"
      },
      "execution_count": null,
      "outputs": [
        {
          "output_type": "execute_result",
          "data": {
            "text/html": [
              "\n",
              "  <div id=\"df-388925ff-27ae-4823-800c-7c6ca701ea5b\">\n",
              "    <div class=\"colab-df-container\">\n",
              "      <div>\n",
              "<style scoped>\n",
              "    .dataframe tbody tr th:only-of-type {\n",
              "        vertical-align: middle;\n",
              "    }\n",
              "\n",
              "    .dataframe tbody tr th {\n",
              "        vertical-align: top;\n",
              "    }\n",
              "\n",
              "    .dataframe thead th {\n",
              "        text-align: right;\n",
              "    }\n",
              "</style>\n",
              "<table border=\"1\" class=\"dataframe\">\n",
              "  <thead>\n",
              "    <tr style=\"text-align: right;\">\n",
              "      <th></th>\n",
              "      <th>year</th>\n",
              "      <th>county_code</th>\n",
              "      <th>msa</th>\n",
              "      <th>census_tract</th>\n",
              "      <th>applicant_age</th>\n",
              "      <th>applicant_age_above_62</th>\n",
              "      <th>race</th>\n",
              "      <th>ethnicity</th>\n",
              "      <th>sex</th>\n",
              "      <th>income</th>\n",
              "      <th>debt_to_income_ratio</th>\n",
              "      <th>tract_one_to_four_family_homes</th>\n",
              "      <th>tract_median_age_of_hu</th>\n",
              "      <th>tract_minority_pop_percent</th>\n",
              "      <th>tract_population</th>\n",
              "      <th>tract_to_msa_income_percentage</th>\n",
              "      <th>purchaser_type</th>\n",
              "      <th>ffiec_msa_md_median_fam_income</th>\n",
              "      <th>balloon_payment</th>\n",
              "      <th>business_or_commercial_purpose</th>\n",
              "      <th>combined_loan_to_value_ratio</th>\n",
              "      <th>construction_method</th>\n",
              "      <th>discount_points</th>\n",
              "      <th>interest_rate</th>\n",
              "      <th>lender_credits</th>\n",
              "      <th>loan_amount</th>\n",
              "      <th>loan_type</th>\n",
              "      <th>lien_status</th>\n",
              "      <th>occupancy_type</th>\n",
              "      <th>property_value</th>\n",
              "      <th>total_loan_costs</th>\n",
              "      <th>total_units</th>\n",
              "      <th>accepted</th>\n",
              "    </tr>\n",
              "  </thead>\n",
              "  <tbody>\n",
              "    <tr>\n",
              "      <th>131639</th>\n",
              "      <td>2020</td>\n",
              "      <td>48201.0</td>\n",
              "      <td>26420.0</td>\n",
              "      <td>4.820154e+10</td>\n",
              "      <td>35-44</td>\n",
              "      <td>0</td>\n",
              "      <td>Black or African American</td>\n",
              "      <td>Not Hispanic or Latino</td>\n",
              "      <td>Male</td>\n",
              "      <td>36.0</td>\n",
              "      <td>41%-&lt;46%</td>\n",
              "      <td>5886.0</td>\n",
              "      <td>10.0</td>\n",
              "      <td>76.63</td>\n",
              "      <td>19461.0</td>\n",
              "      <td>100.0</td>\n",
              "      <td>Ginnie Mae</td>\n",
              "      <td>80000.0</td>\n",
              "      <td>0</td>\n",
              "      <td>0</td>\n",
              "      <td>96.5</td>\n",
              "      <td>Site-built</td>\n",
              "      <td>0.00</td>\n",
              "      <td>2.875</td>\n",
              "      <td>0.00</td>\n",
              "      <td>175000.0</td>\n",
              "      <td>FHA</td>\n",
              "      <td>First Lien</td>\n",
              "      <td>Principal residence</td>\n",
              "      <td>185000.0</td>\n",
              "      <td>7286.55</td>\n",
              "      <td>1</td>\n",
              "      <td>1.0</td>\n",
              "    </tr>\n",
              "    <tr>\n",
              "      <th>75994</th>\n",
              "      <td>2019</td>\n",
              "      <td>48201.0</td>\n",
              "      <td>26420.0</td>\n",
              "      <td>4.820123e+10</td>\n",
              "      <td>35-44</td>\n",
              "      <td>0</td>\n",
              "      <td>White</td>\n",
              "      <td>Hispanic or Latino</td>\n",
              "      <td>Male</td>\n",
              "      <td>48.0</td>\n",
              "      <td>&gt;60%</td>\n",
              "      <td>3011.0</td>\n",
              "      <td>12.0</td>\n",
              "      <td>89.77</td>\n",
              "      <td>11232.0</td>\n",
              "      <td>88.0</td>\n",
              "      <td>No Purchaser</td>\n",
              "      <td>77100.0</td>\n",
              "      <td>0</td>\n",
              "      <td>0</td>\n",
              "      <td>96.5</td>\n",
              "      <td>Site-built</td>\n",
              "      <td>0.00</td>\n",
              "      <td>0.000</td>\n",
              "      <td>0.00</td>\n",
              "      <td>235000.0</td>\n",
              "      <td>FHA</td>\n",
              "      <td>First Lien</td>\n",
              "      <td>Principal residence</td>\n",
              "      <td>235000.0</td>\n",
              "      <td>0.00</td>\n",
              "      <td>1</td>\n",
              "      <td>0.0</td>\n",
              "    </tr>\n",
              "    <tr>\n",
              "      <th>13946</th>\n",
              "      <td>2018</td>\n",
              "      <td>48201.0</td>\n",
              "      <td>26420.0</td>\n",
              "      <td>4.820125e+10</td>\n",
              "      <td>25-34</td>\n",
              "      <td>0</td>\n",
              "      <td>White</td>\n",
              "      <td>Not Hispanic or Latino</td>\n",
              "      <td>Female</td>\n",
              "      <td>65.0</td>\n",
              "      <td>30%-&lt;36%</td>\n",
              "      <td>2134.0</td>\n",
              "      <td>32.0</td>\n",
              "      <td>20.22</td>\n",
              "      <td>6062.0</td>\n",
              "      <td>117.0</td>\n",
              "      <td>Commercial bank, savings bank, or savings asso...</td>\n",
              "      <td>75600.0</td>\n",
              "      <td>0</td>\n",
              "      <td>0</td>\n",
              "      <td>95.0</td>\n",
              "      <td>Site-built</td>\n",
              "      <td>119.28</td>\n",
              "      <td>4.875</td>\n",
              "      <td>0.00</td>\n",
              "      <td>165000.0</td>\n",
              "      <td>Conventional</td>\n",
              "      <td>First Lien</td>\n",
              "      <td>Principal residence</td>\n",
              "      <td>175000.0</td>\n",
              "      <td>4556.39</td>\n",
              "      <td>1</td>\n",
              "      <td>1.0</td>\n",
              "    </tr>\n",
              "    <tr>\n",
              "      <th>118429</th>\n",
              "      <td>2020</td>\n",
              "      <td>48201.0</td>\n",
              "      <td>26420.0</td>\n",
              "      <td>4.820155e+10</td>\n",
              "      <td>25-34</td>\n",
              "      <td>0</td>\n",
              "      <td>White</td>\n",
              "      <td>Hispanic or Latino</td>\n",
              "      <td>Female</td>\n",
              "      <td>63.0</td>\n",
              "      <td>50%-60%</td>\n",
              "      <td>1933.0</td>\n",
              "      <td>30.0</td>\n",
              "      <td>93.21</td>\n",
              "      <td>7207.0</td>\n",
              "      <td>83.0</td>\n",
              "      <td>No Purchaser</td>\n",
              "      <td>80000.0</td>\n",
              "      <td>0</td>\n",
              "      <td>0</td>\n",
              "      <td>96.5</td>\n",
              "      <td>Site-built</td>\n",
              "      <td>0.00</td>\n",
              "      <td>3.625</td>\n",
              "      <td>2500.00</td>\n",
              "      <td>155000.0</td>\n",
              "      <td>FHA</td>\n",
              "      <td>First Lien</td>\n",
              "      <td>Principal residence</td>\n",
              "      <td>165000.0</td>\n",
              "      <td>6818.11</td>\n",
              "      <td>1</td>\n",
              "      <td>1.0</td>\n",
              "    </tr>\n",
              "    <tr>\n",
              "      <th>29816</th>\n",
              "      <td>2018</td>\n",
              "      <td>48201.0</td>\n",
              "      <td>26420.0</td>\n",
              "      <td>4.820154e+10</td>\n",
              "      <td>25-34</td>\n",
              "      <td>0</td>\n",
              "      <td>White</td>\n",
              "      <td>Hispanic or Latino</td>\n",
              "      <td>Female</td>\n",
              "      <td>54.0</td>\n",
              "      <td>41%-&lt;46%</td>\n",
              "      <td>2905.0</td>\n",
              "      <td>23.0</td>\n",
              "      <td>82.41</td>\n",
              "      <td>12545.0</td>\n",
              "      <td>87.0</td>\n",
              "      <td>Other type of purchaser</td>\n",
              "      <td>75600.0</td>\n",
              "      <td>0</td>\n",
              "      <td>0</td>\n",
              "      <td>96.5</td>\n",
              "      <td>Site-built</td>\n",
              "      <td>0.00</td>\n",
              "      <td>5.375</td>\n",
              "      <td>7238.82</td>\n",
              "      <td>175000.0</td>\n",
              "      <td>FHA</td>\n",
              "      <td>First Lien</td>\n",
              "      <td>Principal residence</td>\n",
              "      <td>175000.0</td>\n",
              "      <td>10569.91</td>\n",
              "      <td>1</td>\n",
              "      <td>1.0</td>\n",
              "    </tr>\n",
              "  </tbody>\n",
              "</table>\n",
              "</div>\n",
              "      <button class=\"colab-df-convert\" onclick=\"convertToInteractive('df-388925ff-27ae-4823-800c-7c6ca701ea5b')\"\n",
              "              title=\"Convert this dataframe to an interactive table.\"\n",
              "              style=\"display:none;\">\n",
              "        \n",
              "  <svg xmlns=\"http://www.w3.org/2000/svg\" height=\"24px\"viewBox=\"0 0 24 24\"\n",
              "       width=\"24px\">\n",
              "    <path d=\"M0 0h24v24H0V0z\" fill=\"none\"/>\n",
              "    <path d=\"M18.56 5.44l.94 2.06.94-2.06 2.06-.94-2.06-.94-.94-2.06-.94 2.06-2.06.94zm-11 1L8.5 8.5l.94-2.06 2.06-.94-2.06-.94L8.5 2.5l-.94 2.06-2.06.94zm10 10l.94 2.06.94-2.06 2.06-.94-2.06-.94-.94-2.06-.94 2.06-2.06.94z\"/><path d=\"M17.41 7.96l-1.37-1.37c-.4-.4-.92-.59-1.43-.59-.52 0-1.04.2-1.43.59L10.3 9.45l-7.72 7.72c-.78.78-.78 2.05 0 2.83L4 21.41c.39.39.9.59 1.41.59.51 0 1.02-.2 1.41-.59l7.78-7.78 2.81-2.81c.8-.78.8-2.07 0-2.86zM5.41 20L4 18.59l7.72-7.72 1.47 1.35L5.41 20z\"/>\n",
              "  </svg>\n",
              "      </button>\n",
              "      \n",
              "  <style>\n",
              "    .colab-df-container {\n",
              "      display:flex;\n",
              "      flex-wrap:wrap;\n",
              "      gap: 12px;\n",
              "    }\n",
              "\n",
              "    .colab-df-convert {\n",
              "      background-color: #E8F0FE;\n",
              "      border: none;\n",
              "      border-radius: 50%;\n",
              "      cursor: pointer;\n",
              "      display: none;\n",
              "      fill: #1967D2;\n",
              "      height: 32px;\n",
              "      padding: 0 0 0 0;\n",
              "      width: 32px;\n",
              "    }\n",
              "\n",
              "    .colab-df-convert:hover {\n",
              "      background-color: #E2EBFA;\n",
              "      box-shadow: 0px 1px 2px rgba(60, 64, 67, 0.3), 0px 1px 3px 1px rgba(60, 64, 67, 0.15);\n",
              "      fill: #174EA6;\n",
              "    }\n",
              "\n",
              "    [theme=dark] .colab-df-convert {\n",
              "      background-color: #3B4455;\n",
              "      fill: #D2E3FC;\n",
              "    }\n",
              "\n",
              "    [theme=dark] .colab-df-convert:hover {\n",
              "      background-color: #434B5C;\n",
              "      box-shadow: 0px 1px 3px 1px rgba(0, 0, 0, 0.15);\n",
              "      filter: drop-shadow(0px 1px 2px rgba(0, 0, 0, 0.3));\n",
              "      fill: #FFFFFF;\n",
              "    }\n",
              "  </style>\n",
              "\n",
              "      <script>\n",
              "        const buttonEl =\n",
              "          document.querySelector('#df-388925ff-27ae-4823-800c-7c6ca701ea5b button.colab-df-convert');\n",
              "        buttonEl.style.display =\n",
              "          google.colab.kernel.accessAllowed ? 'block' : 'none';\n",
              "\n",
              "        async function convertToInteractive(key) {\n",
              "          const element = document.querySelector('#df-388925ff-27ae-4823-800c-7c6ca701ea5b');\n",
              "          const dataTable =\n",
              "            await google.colab.kernel.invokeFunction('convertToInteractive',\n",
              "                                                     [key], {});\n",
              "          if (!dataTable) return;\n",
              "\n",
              "          const docLinkHtml = 'Like what you see? Visit the ' +\n",
              "            '<a target=\"_blank\" href=https://colab.research.google.com/notebooks/data_table.ipynb>data table notebook</a>'\n",
              "            + ' to learn more about interactive tables.';\n",
              "          element.innerHTML = '';\n",
              "          dataTable['output_type'] = 'display_data';\n",
              "          await google.colab.output.renderOutput(dataTable, element);\n",
              "          const docLink = document.createElement('div');\n",
              "          docLink.innerHTML = docLinkHtml;\n",
              "          element.appendChild(docLink);\n",
              "        }\n",
              "      </script>\n",
              "    </div>\n",
              "  </div>\n",
              "  "
            ],
            "text/plain": [
              "        year  county_code      msa  ...  total_loan_costs total_units  accepted\n",
              "131639  2020      48201.0  26420.0  ...           7286.55           1       1.0\n",
              "75994   2019      48201.0  26420.0  ...              0.00           1       0.0\n",
              "13946   2018      48201.0  26420.0  ...           4556.39           1       1.0\n",
              "118429  2020      48201.0  26420.0  ...           6818.11           1       1.0\n",
              "29816   2018      48201.0  26420.0  ...          10569.91           1       1.0\n",
              "\n",
              "[5 rows x 33 columns]"
            ]
          },
          "metadata": {},
          "execution_count": 1401
        }
      ]
    },
    {
      "cell_type": "code",
      "source": [
        "pairSet = sampleSet[['income', \"loan_amount\", \"total_loan_costs\", \"property_value\"]]\n",
        "sns.pairplot(pairSet, hue = 'accepted')"
      ],
      "metadata": {
        "colab": {
          "base_uri": "https://localhost:8080/",
          "height": 1000
        },
        "id": "_uNBEzdiuZg9",
        "outputId": "02f83b08-a4a4-4c6c-ff8c-4e72a054bceb"
      },
      "execution_count": null,
      "outputs": [
        {
          "output_type": "error",
          "ename": "KeyError",
          "evalue": "ignored",
          "traceback": [
            "\u001b[0;31m---------------------------------------------------------------------------\u001b[0m",
            "\u001b[0;31mKeyError\u001b[0m                                  Traceback (most recent call last)",
            "\u001b[0;32m/usr/local/lib/python3.7/dist-packages/pandas/core/indexes/base.py\u001b[0m in \u001b[0;36mget_loc\u001b[0;34m(self, key, method, tolerance)\u001b[0m\n\u001b[1;32m   2897\u001b[0m             \u001b[0;32mtry\u001b[0m\u001b[0;34m:\u001b[0m\u001b[0;34m\u001b[0m\u001b[0;34m\u001b[0m\u001b[0m\n\u001b[0;32m-> 2898\u001b[0;31m                 \u001b[0;32mreturn\u001b[0m \u001b[0mself\u001b[0m\u001b[0;34m.\u001b[0m\u001b[0m_engine\u001b[0m\u001b[0;34m.\u001b[0m\u001b[0mget_loc\u001b[0m\u001b[0;34m(\u001b[0m\u001b[0mcasted_key\u001b[0m\u001b[0;34m)\u001b[0m\u001b[0;34m\u001b[0m\u001b[0;34m\u001b[0m\u001b[0m\n\u001b[0m\u001b[1;32m   2899\u001b[0m             \u001b[0;32mexcept\u001b[0m \u001b[0mKeyError\u001b[0m \u001b[0;32mas\u001b[0m \u001b[0merr\u001b[0m\u001b[0;34m:\u001b[0m\u001b[0;34m\u001b[0m\u001b[0;34m\u001b[0m\u001b[0m\n",
            "\u001b[0;32mpandas/_libs/index.pyx\u001b[0m in \u001b[0;36mpandas._libs.index.IndexEngine.get_loc\u001b[0;34m()\u001b[0m\n",
            "\u001b[0;32mpandas/_libs/index.pyx\u001b[0m in \u001b[0;36mpandas._libs.index.IndexEngine.get_loc\u001b[0;34m()\u001b[0m\n",
            "\u001b[0;32mpandas/_libs/hashtable_class_helper.pxi\u001b[0m in \u001b[0;36mpandas._libs.hashtable.PyObjectHashTable.get_item\u001b[0;34m()\u001b[0m\n",
            "\u001b[0;32mpandas/_libs/hashtable_class_helper.pxi\u001b[0m in \u001b[0;36mpandas._libs.hashtable.PyObjectHashTable.get_item\u001b[0;34m()\u001b[0m\n",
            "\u001b[0;31mKeyError\u001b[0m: 'accepted'",
            "\nThe above exception was the direct cause of the following exception:\n",
            "\u001b[0;31mKeyError\u001b[0m                                  Traceback (most recent call last)",
            "\u001b[0;32m<ipython-input-1402-9cf352b293b6>\u001b[0m in \u001b[0;36m<module>\u001b[0;34m()\u001b[0m\n\u001b[1;32m      1\u001b[0m \u001b[0mpairSet\u001b[0m \u001b[0;34m=\u001b[0m \u001b[0msampleSet\u001b[0m\u001b[0;34m[\u001b[0m\u001b[0;34m[\u001b[0m\u001b[0;34m'income'\u001b[0m\u001b[0;34m,\u001b[0m \u001b[0;34m\"loan_amount\"\u001b[0m\u001b[0;34m,\u001b[0m \u001b[0;34m\"total_loan_costs\"\u001b[0m\u001b[0;34m,\u001b[0m \u001b[0;34m\"property_value\"\u001b[0m\u001b[0;34m]\u001b[0m\u001b[0;34m]\u001b[0m\u001b[0;34m\u001b[0m\u001b[0;34m\u001b[0m\u001b[0m\n\u001b[0;32m----> 2\u001b[0;31m \u001b[0msns\u001b[0m\u001b[0;34m.\u001b[0m\u001b[0mpairplot\u001b[0m\u001b[0;34m(\u001b[0m\u001b[0mpairSet\u001b[0m\u001b[0;34m,\u001b[0m \u001b[0mhue\u001b[0m \u001b[0;34m=\u001b[0m \u001b[0;34m'accepted'\u001b[0m\u001b[0;34m)\u001b[0m\u001b[0;34m\u001b[0m\u001b[0;34m\u001b[0m\u001b[0m\n\u001b[0m",
            "\u001b[0;32m/usr/local/lib/python3.7/dist-packages/seaborn/_decorators.py\u001b[0m in \u001b[0;36minner_f\u001b[0;34m(*args, **kwargs)\u001b[0m\n\u001b[1;32m     44\u001b[0m             )\n\u001b[1;32m     45\u001b[0m         \u001b[0mkwargs\u001b[0m\u001b[0;34m.\u001b[0m\u001b[0mupdate\u001b[0m\u001b[0;34m(\u001b[0m\u001b[0;34m{\u001b[0m\u001b[0mk\u001b[0m\u001b[0;34m:\u001b[0m \u001b[0marg\u001b[0m \u001b[0;32mfor\u001b[0m \u001b[0mk\u001b[0m\u001b[0;34m,\u001b[0m \u001b[0marg\u001b[0m \u001b[0;32min\u001b[0m \u001b[0mzip\u001b[0m\u001b[0;34m(\u001b[0m\u001b[0msig\u001b[0m\u001b[0;34m.\u001b[0m\u001b[0mparameters\u001b[0m\u001b[0;34m,\u001b[0m \u001b[0margs\u001b[0m\u001b[0;34m)\u001b[0m\u001b[0;34m}\u001b[0m\u001b[0;34m)\u001b[0m\u001b[0;34m\u001b[0m\u001b[0;34m\u001b[0m\u001b[0m\n\u001b[0;32m---> 46\u001b[0;31m         \u001b[0;32mreturn\u001b[0m \u001b[0mf\u001b[0m\u001b[0;34m(\u001b[0m\u001b[0;34m**\u001b[0m\u001b[0mkwargs\u001b[0m\u001b[0;34m)\u001b[0m\u001b[0;34m\u001b[0m\u001b[0;34m\u001b[0m\u001b[0m\n\u001b[0m\u001b[1;32m     47\u001b[0m     \u001b[0;32mreturn\u001b[0m \u001b[0minner_f\u001b[0m\u001b[0;34m\u001b[0m\u001b[0;34m\u001b[0m\u001b[0m\n\u001b[1;32m     48\u001b[0m \u001b[0;34m\u001b[0m\u001b[0m\n",
            "\u001b[0;32m/usr/local/lib/python3.7/dist-packages/seaborn/axisgrid.py\u001b[0m in \u001b[0;36mpairplot\u001b[0;34m(data, hue, hue_order, palette, vars, x_vars, y_vars, kind, diag_kind, markers, height, aspect, corner, dropna, plot_kws, diag_kws, grid_kws, size)\u001b[0m\n\u001b[1;32m   2096\u001b[0m     grid = PairGrid(data, vars=vars, x_vars=x_vars, y_vars=y_vars, hue=hue,\n\u001b[1;32m   2097\u001b[0m                     \u001b[0mhue_order\u001b[0m\u001b[0;34m=\u001b[0m\u001b[0mhue_order\u001b[0m\u001b[0;34m,\u001b[0m \u001b[0mpalette\u001b[0m\u001b[0;34m=\u001b[0m\u001b[0mpalette\u001b[0m\u001b[0;34m,\u001b[0m \u001b[0mcorner\u001b[0m\u001b[0;34m=\u001b[0m\u001b[0mcorner\u001b[0m\u001b[0;34m,\u001b[0m\u001b[0;34m\u001b[0m\u001b[0;34m\u001b[0m\u001b[0m\n\u001b[0;32m-> 2098\u001b[0;31m                     height=height, aspect=aspect, dropna=dropna, **grid_kws)\n\u001b[0m\u001b[1;32m   2099\u001b[0m \u001b[0;34m\u001b[0m\u001b[0m\n\u001b[1;32m   2100\u001b[0m     \u001b[0;31m# Add the markers here as PairGrid has figured out how many levels of the\u001b[0m\u001b[0;34m\u001b[0m\u001b[0;34m\u001b[0m\u001b[0;34m\u001b[0m\u001b[0m\n",
            "\u001b[0;32m/usr/local/lib/python3.7/dist-packages/seaborn/_decorators.py\u001b[0m in \u001b[0;36minner_f\u001b[0;34m(*args, **kwargs)\u001b[0m\n\u001b[1;32m     44\u001b[0m             )\n\u001b[1;32m     45\u001b[0m         \u001b[0mkwargs\u001b[0m\u001b[0;34m.\u001b[0m\u001b[0mupdate\u001b[0m\u001b[0;34m(\u001b[0m\u001b[0;34m{\u001b[0m\u001b[0mk\u001b[0m\u001b[0;34m:\u001b[0m \u001b[0marg\u001b[0m \u001b[0;32mfor\u001b[0m \u001b[0mk\u001b[0m\u001b[0;34m,\u001b[0m \u001b[0marg\u001b[0m \u001b[0;32min\u001b[0m \u001b[0mzip\u001b[0m\u001b[0;34m(\u001b[0m\u001b[0msig\u001b[0m\u001b[0;34m.\u001b[0m\u001b[0mparameters\u001b[0m\u001b[0;34m,\u001b[0m \u001b[0margs\u001b[0m\u001b[0;34m)\u001b[0m\u001b[0;34m}\u001b[0m\u001b[0;34m)\u001b[0m\u001b[0;34m\u001b[0m\u001b[0;34m\u001b[0m\u001b[0m\n\u001b[0;32m---> 46\u001b[0;31m         \u001b[0;32mreturn\u001b[0m \u001b[0mf\u001b[0m\u001b[0;34m(\u001b[0m\u001b[0;34m**\u001b[0m\u001b[0mkwargs\u001b[0m\u001b[0;34m)\u001b[0m\u001b[0;34m\u001b[0m\u001b[0;34m\u001b[0m\u001b[0m\n\u001b[0m\u001b[1;32m     47\u001b[0m     \u001b[0;32mreturn\u001b[0m \u001b[0minner_f\u001b[0m\u001b[0;34m\u001b[0m\u001b[0;34m\u001b[0m\u001b[0m\n\u001b[1;32m     48\u001b[0m \u001b[0;34m\u001b[0m\u001b[0m\n",
            "\u001b[0;32m/usr/local/lib/python3.7/dist-packages/seaborn/axisgrid.py\u001b[0m in \u001b[0;36m__init__\u001b[0;34m(self, data, hue, hue_order, palette, hue_kws, vars, x_vars, y_vars, corner, diag_sharey, height, aspect, layout_pad, despine, dropna, size)\u001b[0m\n\u001b[1;32m   1287\u001b[0m             \u001b[0;31m# to the axes-level functions, while always handling legend creation.\u001b[0m\u001b[0;34m\u001b[0m\u001b[0;34m\u001b[0m\u001b[0;34m\u001b[0m\u001b[0m\n\u001b[1;32m   1288\u001b[0m             \u001b[0;31m# See GH2307\u001b[0m\u001b[0;34m\u001b[0m\u001b[0;34m\u001b[0m\u001b[0;34m\u001b[0m\u001b[0m\n\u001b[0;32m-> 1289\u001b[0;31m             \u001b[0mhue_names\u001b[0m \u001b[0;34m=\u001b[0m \u001b[0mhue_order\u001b[0m \u001b[0;34m=\u001b[0m \u001b[0mcategorical_order\u001b[0m\u001b[0;34m(\u001b[0m\u001b[0mdata\u001b[0m\u001b[0;34m[\u001b[0m\u001b[0mhue\u001b[0m\u001b[0;34m]\u001b[0m\u001b[0;34m,\u001b[0m \u001b[0mhue_order\u001b[0m\u001b[0;34m)\u001b[0m\u001b[0;34m\u001b[0m\u001b[0;34m\u001b[0m\u001b[0m\n\u001b[0m\u001b[1;32m   1290\u001b[0m             \u001b[0;32mif\u001b[0m \u001b[0mdropna\u001b[0m\u001b[0;34m:\u001b[0m\u001b[0;34m\u001b[0m\u001b[0;34m\u001b[0m\u001b[0m\n\u001b[1;32m   1291\u001b[0m                 \u001b[0;31m# Filter NA from the list of unique hue names\u001b[0m\u001b[0;34m\u001b[0m\u001b[0;34m\u001b[0m\u001b[0;34m\u001b[0m\u001b[0m\n",
            "\u001b[0;32m/usr/local/lib/python3.7/dist-packages/pandas/core/frame.py\u001b[0m in \u001b[0;36m__getitem__\u001b[0;34m(self, key)\u001b[0m\n\u001b[1;32m   2904\u001b[0m             \u001b[0;32mif\u001b[0m \u001b[0mself\u001b[0m\u001b[0;34m.\u001b[0m\u001b[0mcolumns\u001b[0m\u001b[0;34m.\u001b[0m\u001b[0mnlevels\u001b[0m \u001b[0;34m>\u001b[0m \u001b[0;36m1\u001b[0m\u001b[0;34m:\u001b[0m\u001b[0;34m\u001b[0m\u001b[0;34m\u001b[0m\u001b[0m\n\u001b[1;32m   2905\u001b[0m                 \u001b[0;32mreturn\u001b[0m \u001b[0mself\u001b[0m\u001b[0;34m.\u001b[0m\u001b[0m_getitem_multilevel\u001b[0m\u001b[0;34m(\u001b[0m\u001b[0mkey\u001b[0m\u001b[0;34m)\u001b[0m\u001b[0;34m\u001b[0m\u001b[0;34m\u001b[0m\u001b[0m\n\u001b[0;32m-> 2906\u001b[0;31m             \u001b[0mindexer\u001b[0m \u001b[0;34m=\u001b[0m \u001b[0mself\u001b[0m\u001b[0;34m.\u001b[0m\u001b[0mcolumns\u001b[0m\u001b[0;34m.\u001b[0m\u001b[0mget_loc\u001b[0m\u001b[0;34m(\u001b[0m\u001b[0mkey\u001b[0m\u001b[0;34m)\u001b[0m\u001b[0;34m\u001b[0m\u001b[0;34m\u001b[0m\u001b[0m\n\u001b[0m\u001b[1;32m   2907\u001b[0m             \u001b[0;32mif\u001b[0m \u001b[0mis_integer\u001b[0m\u001b[0;34m(\u001b[0m\u001b[0mindexer\u001b[0m\u001b[0;34m)\u001b[0m\u001b[0;34m:\u001b[0m\u001b[0;34m\u001b[0m\u001b[0;34m\u001b[0m\u001b[0m\n\u001b[1;32m   2908\u001b[0m                 \u001b[0mindexer\u001b[0m \u001b[0;34m=\u001b[0m \u001b[0;34m[\u001b[0m\u001b[0mindexer\u001b[0m\u001b[0;34m]\u001b[0m\u001b[0;34m\u001b[0m\u001b[0;34m\u001b[0m\u001b[0m\n",
            "\u001b[0;32m/usr/local/lib/python3.7/dist-packages/pandas/core/indexes/base.py\u001b[0m in \u001b[0;36mget_loc\u001b[0;34m(self, key, method, tolerance)\u001b[0m\n\u001b[1;32m   2898\u001b[0m                 \u001b[0;32mreturn\u001b[0m \u001b[0mself\u001b[0m\u001b[0;34m.\u001b[0m\u001b[0m_engine\u001b[0m\u001b[0;34m.\u001b[0m\u001b[0mget_loc\u001b[0m\u001b[0;34m(\u001b[0m\u001b[0mcasted_key\u001b[0m\u001b[0;34m)\u001b[0m\u001b[0;34m\u001b[0m\u001b[0;34m\u001b[0m\u001b[0m\n\u001b[1;32m   2899\u001b[0m             \u001b[0;32mexcept\u001b[0m \u001b[0mKeyError\u001b[0m \u001b[0;32mas\u001b[0m \u001b[0merr\u001b[0m\u001b[0;34m:\u001b[0m\u001b[0;34m\u001b[0m\u001b[0;34m\u001b[0m\u001b[0m\n\u001b[0;32m-> 2900\u001b[0;31m                 \u001b[0;32mraise\u001b[0m \u001b[0mKeyError\u001b[0m\u001b[0;34m(\u001b[0m\u001b[0mkey\u001b[0m\u001b[0;34m)\u001b[0m \u001b[0;32mfrom\u001b[0m \u001b[0merr\u001b[0m\u001b[0;34m\u001b[0m\u001b[0;34m\u001b[0m\u001b[0m\n\u001b[0m\u001b[1;32m   2901\u001b[0m \u001b[0;34m\u001b[0m\u001b[0m\n\u001b[1;32m   2902\u001b[0m         \u001b[0;32mif\u001b[0m \u001b[0mtolerance\u001b[0m \u001b[0;32mis\u001b[0m \u001b[0;32mnot\u001b[0m \u001b[0;32mNone\u001b[0m\u001b[0;34m:\u001b[0m\u001b[0;34m\u001b[0m\u001b[0;34m\u001b[0m\u001b[0m\n",
            "\u001b[0;31mKeyError\u001b[0m: 'accepted'"
          ]
        },
        {
          "output_type": "display_data",
          "data": {
            "image/png": "[encoded data removed]",
            "text/plain": [
              "<Figure size 720x720 with 16 Axes>"
            ]
          },
          "metadata": {
            "needs_background": "light"
          }
        }
      ]
    },
    {
      "cell_type": "code",
      "source": [
        "# we wanted to investigate the relationship between area income and acceptance, so we used a histogram and colored the accepted \n",
        "sns.histplot(data=sampleSet, x='tract_to_msa_income_percentage', hue = 'accepted')"
      ],
      "metadata": {
        "id": "j8qi2AHkfi93"
      },
      "execution_count": null,
      "outputs": []
    },
    {
      "cell_type": "code",
      "source": [
        "# this is a cramped histogram plot of races prevelant in the dataset and their acceptence\n",
        "# a big takeaway from this is the relative prevelance of white people in the collection even though Houston has only \n",
        "# about a 55% prevelance in Hosuton\n",
        "sns.histplot(data=sampleSet, x ='race', hue = 'accepted')"
      ],
      "metadata": {
        "id": "ULiaFDN8oFhP"
      },
      "execution_count": null,
      "outputs": []
    },
    {
      "cell_type": "markdown",
      "source": [
        "Next, we evaluated several other relationships that we thought might be interesting"
      ],
      "metadata": {
        "id": "WtVjZ0zut0Hy"
      }
    },
    {
      "cell_type": "code",
      "source": [
        "sns.scatterplot(data = smapleSet, y = 'loan_amount', x = 'tract_to_msa_income_percentage')"
      ],
      "metadata": {
        "id": "6w7olun6gtLl"
      },
      "execution_count": null,
      "outputs": []
    },
    {
      "cell_type": "code",
      "source": [
        "sns.histplot(data=sampleSet, x='income', binrange = (0,1000), hue = 'accepted')"
      ],
      "metadata": {
        "id": "m6_rqlnP1HVf"
      },
      "execution_count": null,
      "outputs": []
    },
    {
      "cell_type": "code",
      "source": [
        "sns.displot(data=sampleSet, x='income', binrange = (0,600), hue = 'accepted')"
      ],
      "metadata": {
        "id": "BomTzg5H1-1l"
      },
      "execution_count": null,
      "outputs": []
    },
    {
      "cell_type": "markdown",
      "source": [
        "We wanted to further look into the income relationships, so we made seperate tables out of loanSet to see what differences in the acceptance rate appeared"
      ],
      "metadata": {
        "id": "bjmXmSsYuAcK"
      }
    },
    {
      "cell_type": "code",
      "source": [
        "lowIncome = loanSet[loanSet['income']<loanSet['income'].quantile(.15)]"
      ],
      "metadata": {
        "id": "v03PuO9a7g1Y"
      },
      "execution_count": null,
      "outputs": []
    },
    {
      "cell_type": "code",
      "source": [
        "highIncome = loanSet[loanSet['income']>loanSet['income'].quantile(.85)]"
      ],
      "metadata": {
        "id": "kllwtqda7_SA"
      },
      "execution_count": null,
      "outputs": []
    },
    {
      "cell_type": "code",
      "source": [
        "lowIncome_accepted = (lowIncome['accepted'] == 1).sum()\n",
        "lowIncome_denied = (lowIncome['accepted'] == 0).sum()"
      ],
      "metadata": {
        "id": "FGQTmi898LEA"
      },
      "execution_count": null,
      "outputs": []
    },
    {
      "cell_type": "code",
      "source": [
        "lowIncome_df = [lowIncome_accepted, lowIncome_denied]"
      ],
      "metadata": {
        "id": "08OwUtD78K8O"
      },
      "execution_count": null,
      "outputs": []
    },
    {
      "cell_type": "code",
      "source": [
        "plt.pie(lowIncome_df)\n",
        "plt.title(\"Low Income Applicants\")\n",
        "plt.legend(labels = ['Accepted', \"Rejected\"])"
      ],
      "metadata": {
        "id": "OL0Fgp1Sdgki"
      },
      "execution_count": null,
      "outputs": []
    },
    {
      "cell_type": "code",
      "source": [
        "highIncome_accepted = (highIncome['accepted'] == 1).sum()\n",
        "highIncome_denied = (highIncome['accepted'] == 0).sum()"
      ],
      "metadata": {
        "id": "7FNzk86wdirF"
      },
      "execution_count": null,
      "outputs": []
    },
    {
      "cell_type": "code",
      "source": [
        "highIncome_df = [highIncome_accepted, highIncome_denied]"
      ],
      "metadata": {
        "id": "1ZQqwHLGdlHs"
      },
      "execution_count": null,
      "outputs": []
    },
    {
      "cell_type": "code",
      "source": [
        "plt.pie(highIncome_df)\n",
        "plt.title(\"High Income Applicants\")\n",
        "plt.legend(labels = ['Accepted', \"Rejected\"])"
      ],
      "metadata": {
        "id": "49B9WqFZdrcB"
      },
      "execution_count": null,
      "outputs": []
    },
    {
      "cell_type": "code",
      "source": [
        "sns.scatterplot(data = sampleSet, x = 'loan_amount', y = 'tract_to_msa_income_percentage', hue = 'accepted')"
      ],
      "metadata": {
        "id": "HkodmcGg29Z1"
      },
      "execution_count": null,
      "outputs": []
    },
    {
      "cell_type": "code",
      "source": [
        "sns.scatterplot(data = sampleSet, x = 'loan_amount', y = 'property_value', hue = 'accepted')"
      ],
      "metadata": {
        "id": "P2OP5nnB5slF"
      },
      "execution_count": null,
      "outputs": []
    },
    {
      "cell_type": "markdown",
      "source": [
        "## One Hot Encoding and Column Workings"
      ],
      "metadata": {
        "id": "EHGJZqoAVric"
      }
    },
    {
      "cell_type": "markdown",
      "source": [
        "In this section, we went through some standard procedures in one-hot encoding and df manipulation to make the dataset ready for modeling"
      ],
      "metadata": {
        "id": "dj6Rl3TAuozo"
      }
    },
    {
      "cell_type": "code",
      "execution_count": null,
      "metadata": {
        "id": "wzeYCJL5G90q"
      },
      "outputs": [],
      "source": [
        "from sklearn.preprocessing import OrdinalEncoder"
      ]
    },
    {
      "cell_type": "code",
      "source": [
        "loanSet.columns"
      ],
      "metadata": {
        "id": "M-fOxr00PSqb"
      },
      "execution_count": null,
      "outputs": []
    },
    {
      "cell_type": "code",
      "source": [
        "# our df was cluttered and too specified for effective modeling\n",
        "# the first thing we wanted to do was cut down the clutter and leave only meainingful columns for our model\n",
        "loanSet = loanSet[['applicant_age_above_62', 'race','sex', 'income','debt_to_income_ratio', 'discount_points','lender_credits',\n",
        "                   'tract_to_msa_income_percentage', 'ffiec_msa_md_median_fam_income', 'business_or_commercial_purpose', \n",
        "                   'combined_loan_to_value_ratio','interest_rate', 'loan_amount', 'loan_type','property_value', 'total_loan_costs',\n",
        "                   'accepted']]"
      ],
      "metadata": {
        "id": "_S0tiJv8OVj-"
      },
      "execution_count": null,
      "outputs": []
    },
    {
      "cell_type": "code",
      "execution_count": null,
      "metadata": {
        "id": "XslOBfVRHNlW"
      },
      "outputs": [],
      "source": [
        "loanSet['debt_to_income_ratio'].unique()"
      ]
    },
    {
      "cell_type": "code",
      "execution_count": null,
      "metadata": {
        "id": "xjKuwTbNHXMm"
      },
      "outputs": [],
      "source": [
        "debtincome_sort = ['>60%', '50%-60%', '46%-<50%', '41%-<46%', '36%-<41%', '30%-<36%', '30%-<36%', '20%-<30%', '<20%' ]\n",
        "debtincome_encoder = OrdinalEncoder(categories=[debtincome_sort])"
      ]
    },
    {
      "cell_type": "code",
      "execution_count": null,
      "metadata": {
        "id": "quCtnxwTIofJ"
      },
      "outputs": [],
      "source": [
        "loanSet['debtincome_sort'] = debtincome_encoder.fit_transform(loanSet['debt_to_income_ratio'].values.reshape(-1, 1))"
      ]
    },
    {
      "cell_type": "code",
      "source": [
        "loanSet['debt_to_income_ratio'].value_counts()"
      ],
      "metadata": {
        "id": "Lt4cSALFPR6M"
      },
      "execution_count": null,
      "outputs": []
    },
    {
      "cell_type": "code",
      "source": [
        "loanSet.drop(labels=[\"debt_to_income_ratio\"], axis=1, inplace=True)"
      ],
      "metadata": {
        "id": "PJvrgB0KwS65"
      },
      "execution_count": null,
      "outputs": []
    },
    {
      "cell_type": "code",
      "source": [
        "loanSet['race'] = loanSet['race'].replace(['Free Form Text Only'],'Race - Other')\n",
        "loanSet['race'] = loanSet['race'].replace(['Joint'],'Race - Joint')\n",
        "dummies_race = pd.get_dummies(loanSet['race'])\n",
        "loanSet = pd.concat([loanSet, dummies_race], axis=1)\n",
        "loanSet.drop(labels=[\"race\"], axis=1, inplace=True)\n",
        "loanSet.head()"
      ],
      "metadata": {
        "id": "tNk988LLPmxG"
      },
      "execution_count": null,
      "outputs": []
    },
    {
      "cell_type": "code",
      "source": [
        "loanSet['sex'] = loanSet['sex'].replace(['Joint'],'Sex - Joint')\n",
        "dummies_sex = pd.get_dummies(loanSet['sex'])\n",
        "loanSet = pd.concat([loanSet, dummies_sex], axis=1)\n",
        "loanSet.drop(labels=[\"sex\"], axis=1, inplace=True)\n",
        "loanSet.head()"
      ],
      "metadata": {
        "id": "O2tk78OgR--s"
      },
      "execution_count": null,
      "outputs": []
    },
    {
      "cell_type": "code",
      "source": [
        "dummies_loan_type = pd.get_dummies(loanSet['loan_type'])\n",
        "loanSet = pd.concat([loanSet, dummies_loan_type], axis=1)\n",
        "loanSet.drop(labels=[\"loan_type\"], axis=1, inplace=True)\n",
        "loanSet.head()"
      ],
      "metadata": {
        "id": "9pofIPMntv1B"
      },
      "execution_count": null,
      "outputs": []
    },
    {
      "cell_type": "code",
      "source": [
        "def encode_binary_variable(df, col, val_pos, val_neg):\n",
        "    df[col] = df[col].replace({val_pos:1, val_neg:0})"
      ],
      "metadata": {
        "id": "hp1Lo7tjWsoT"
      },
      "execution_count": null,
      "outputs": []
    },
    {
      "cell_type": "code",
      "source": [
        "loanSet.head()"
      ],
      "metadata": {
        "id": "XMUVS4ErwLsn"
      },
      "execution_count": null,
      "outputs": []
    },
    {
      "cell_type": "code",
      "source": [
        "# after encoding and cleaning, this is the shape of our data\n",
        "loanSet.shape"
      ],
      "metadata": {
        "id": "zNdh3ocUWseb"
      },
      "execution_count": null,
      "outputs": []
    },
    {
      "cell_type": "markdown",
      "source": [
        "## Modeling"
      ],
      "metadata": {
        "id": "YwcHaeUYwzlp"
      }
    },
    {
      "cell_type": "markdown",
      "source": [
        "Next, we are ready for the modeling portion. First, we are going to use logistic regression to attempt to classify the rows as accepted or not accepted."
      ],
      "metadata": {
        "id": "6Ukw4F-9wQSr"
      }
    },
    {
      "cell_type": "code",
      "source": [
        "loanSet.columns"
      ],
      "metadata": {
        "id": "c68fKKfgEZ_G"
      },
      "execution_count": null,
      "outputs": []
    },
    {
      "cell_type": "code",
      "source": [
        "from sklearn.model_selection import train_test_split"
      ],
      "metadata": {
        "id": "L5DE3YYFsG9f"
      },
      "execution_count": null,
      "outputs": []
    },
    {
      "cell_type": "code",
      "source": [
        "X = loanSet.drop(labels=[\"accepted\"], axis=1)\n",
        "y = loanSet[\"accepted\"]"
      ],
      "metadata": {
        "id": "Mfaab6ppsG0u"
      },
      "execution_count": null,
      "outputs": []
    },
    {
      "cell_type": "code",
      "source": [
        "# create testing dataset\n",
        "X_train_full, X_test, y_train_full, y_test = train_test_split(X, y, test_size=0.2, random_state=2022)\n",
        "# create training and validation sets\n",
        "X_train, X_val, y_train, y_val = train_test_split(X_train_full, y_train_full, test_size=0.2, random_state=2022)"
      ],
      "metadata": {
        "id": "S3BobpiRscSv"
      },
      "execution_count": null,
      "outputs": []
    },
    {
      "cell_type": "code",
      "source": [
        "# importing regression model\n",
        "from sklearn.linear_model import LogisticRegression"
      ],
      "metadata": {
        "id": "hwCplssErCZJ"
      },
      "execution_count": null,
      "outputs": []
    },
    {
      "cell_type": "code",
      "source": [
        "logreg = LogisticRegression(random_state=2022, max_iter=100000)"
      ],
      "metadata": {
        "id": "t3ahqq4FrxFm"
      },
      "execution_count": null,
      "outputs": []
    },
    {
      "cell_type": "code",
      "source": [
        "logreg.fit(X_train, y_train)"
      ],
      "metadata": {
        "id": "3Kfv14upr0wr"
      },
      "execution_count": null,
      "outputs": []
    },
    {
      "cell_type": "code",
      "source": [
        "y_pred = logreg.predict(X_val)"
      ],
      "metadata": {
        "id": "rgWDh1sgsEz3"
      },
      "execution_count": null,
      "outputs": []
    },
    {
      "cell_type": "code",
      "source": [
        "# looking quickly at the counts of each in \n",
        "(unique, counts) = np.unique(y_pred, return_counts=True)\n",
        "frequencies = np.asarray((unique, counts)).T\n",
        "frequencies"
      ],
      "metadata": {
        "id": "PHhmwRu-HxOI"
      },
      "execution_count": null,
      "outputs": []
    },
    {
      "cell_type": "markdown",
      "source": [
        "### Model Performance"
      ],
      "metadata": {
        "id": "fyHCLCTmwhtD"
      }
    },
    {
      "cell_type": "markdown",
      "source": [
        "Next, we're going to use scikit learn's built in model evalutations to see how well our baseline model performed"
      ],
      "metadata": {
        "id": "8xX_zw7Fxu6o"
      }
    },
    {
      "cell_type": "code",
      "source": [
        "loanSet['accepted'].value_counts()\n",
        "print(str(loanSet['accepted'].value_counts()[1]/(loanSet['accepted'].value_counts()[1]+loanSet['accepted'].value_counts()[0])*100)+\"% of entries correspond to accepted loans\")"
      ],
      "metadata": {
        "id": "vkkbKOO9wP5r"
      },
      "execution_count": null,
      "outputs": []
    },
    {
      "cell_type": "code",
      "source": [
        "from sklearn.metrics import accuracy_score, precision_score, recall_score"
      ],
      "metadata": {
        "id": "5angJ7WNwdpm"
      },
      "execution_count": null,
      "outputs": []
    },
    {
      "cell_type": "code",
      "source": [
        "print(\"Accuracy: \", accuracy_score(y_val, y_pred))"
      ],
      "metadata": {
        "id": "4a_xTSgJwgqS"
      },
      "execution_count": null,
      "outputs": []
    },
    {
      "cell_type": "code",
      "source": [
        "print(\"Precision for Accepted Applications: \", precision_score(y_val, y_pred))\n",
        "print(\"Recall for Accepted Applications: \", recall_score(y_val, y_pred))"
      ],
      "metadata": {
        "id": "HQwOnhVhwwy6"
      },
      "execution_count": null,
      "outputs": []
    },
    {
      "cell_type": "code",
      "source": [
        "print(\"Precision for Rejected Applications: \", precision_score(y_val, y_pred, pos_label=0))\n",
        "print(\"Recall for Rejected Applications: \", recall_score(y_val, y_pred, pos_label=0))"
      ],
      "metadata": {
        "id": "JGxfM1nexEk2"
      },
      "execution_count": null,
      "outputs": []
    },
    {
      "cell_type": "code",
      "source": [
        "import seaborn as sns\n",
        "from sklearn import metrics"
      ],
      "metadata": {
        "id": "6Ky9ExoZeL6R"
      },
      "execution_count": null,
      "outputs": []
    },
    {
      "cell_type": "code",
      "source": [
        "cm_reg = metrics.confusion_matrix(y_val, y_pred)\n",
        "print(cm_reg)"
      ],
      "metadata": {
        "id": "RopqXo37cmia"
      },
      "execution_count": null,
      "outputs": []
    },
    {
      "cell_type": "code",
      "source": [
        "sns.heatmap(cm_reg, annot=True, square = True, cmap = 'Blues_r');\n",
        "plt.ylabel('Actual label');\n",
        "plt.xlabel('Predicted label');"
      ],
      "metadata": {
        "id": "sQ1QWHRCcupN"
      },
      "execution_count": null,
      "outputs": []
    },
    {
      "cell_type": "markdown",
      "source": [
        "SMOTE"
      ],
      "metadata": {
        "id": "3EujeCMLxYEw"
      }
    },
    {
      "cell_type": "code",
      "source": [
        "from imblearn.over_sampling import SMOTE"
      ],
      "metadata": {
        "id": "f5-NodYXxUBw"
      },
      "execution_count": null,
      "outputs": []
    },
    {
      "cell_type": "code",
      "source": [
        "smote = SMOTE(sampling_strategy= 'minority')\n",
        "X_train_res, y_train_res = smote.fit_resample(X_train, y_train)"
      ],
      "metadata": {
        "id": "pNir1ZpGBSVS"
      },
      "execution_count": null,
      "outputs": []
    },
    {
      "cell_type": "code",
      "source": [
        "y_train_res.value_counts()"
      ],
      "metadata": {
        "id": "-yQc3DqLBamX"
      },
      "execution_count": null,
      "outputs": []
    },
    {
      "cell_type": "code",
      "source": [
        "logreg_sm = LogisticRegression(random_state=0, max_iter=1000)\n",
        "logreg_sm.fit(X_train_res, y_train_res)\n",
        "y_pred_sm = logreg_sm.predict(X_val)"
      ],
      "metadata": {
        "id": "W3sY0RmFBdev"
      },
      "execution_count": null,
      "outputs": []
    },
    {
      "cell_type": "code",
      "source": [
        "print(\"Accuracy: \", accuracy_score(y_val, y_pred_sm))"
      ],
      "metadata": {
        "id": "lq3PWWCTBghL"
      },
      "execution_count": null,
      "outputs": []
    },
    {
      "cell_type": "code",
      "source": [
        "print(\"Precision for Accepted Applications: \" + str(precision_score(y_val, y_pred_sm)))\n",
        "print(\"Recall for Accepted Applications: \" + str(recall_score(y_val, y_pred_sm)))"
      ],
      "metadata": {
        "id": "g4LlwLXABi8E"
      },
      "execution_count": null,
      "outputs": []
    },
    {
      "cell_type": "code",
      "source": [
        "print(\"Precision for Rejected Applications: \" +str(precision_score(y_val, y_pred_sm, pos_label=0)))\n",
        "print(\"Recall for Rejected Applications: \" + str(recall_score(y_val, y_pred_sm, pos_label=0)))"
      ],
      "metadata": {
        "id": "Ce09ELXbBocT"
      },
      "execution_count": null,
      "outputs": []
    },
    {
      "cell_type": "code",
      "source": [
        "cm_smote = metrics.confusion_matrix(y_val, y_pred_sm)\n",
        "print(cm_smote)"
      ],
      "metadata": {
        "id": "pJsplU50ZdUu"
      },
      "execution_count": null,
      "outputs": []
    },
    {
      "cell_type": "code",
      "source": [
        "sns.heatmap(cm_smote, annot=True, square = True, cmap = 'Blues_r');\n",
        "plt.ylabel('Actual label');\n",
        "plt.xlabel('Predicted label');"
      ],
      "metadata": {
        "id": "WLGyeYU6aKQI"
      },
      "execution_count": null,
      "outputs": []
    },
    {
      "cell_type": "markdown",
      "source": [
        "### F1 Score"
      ],
      "metadata": {
        "id": "VATMqu8zKD6H"
      }
    },
    {
      "cell_type": "code",
      "source": [
        "from sklearn.metrics import f1_score"
      ],
      "metadata": {
        "id": "fAzlSTySKGh_"
      },
      "execution_count": null,
      "outputs": []
    },
    {
      "cell_type": "code",
      "source": [
        "print(\"F1 Score for the Baseline Model (Accepted): \", f1_score(y_val, y_pred))\n",
        "print(\"F1 Score for the SMOTE Model (Accepted): \", f1_score(y_val, y_pred_sm))"
      ],
      "metadata": {
        "id": "dSxUsASkKJCS"
      },
      "execution_count": null,
      "outputs": []
    },
    {
      "cell_type": "code",
      "source": [
        "print(\"F1 Score for the Baseline Model (Rejected): \", f1_score(y_val, y_pred, pos_label=0))\n",
        "print(\"F1 Score for the SMOTE Model (Rejected): \", f1_score(y_val, y_pred_sm, pos_label=0))"
      ],
      "metadata": {
        "id": "QFoq62BqKLjQ"
      },
      "execution_count": null,
      "outputs": []
    },
    {
      "cell_type": "markdown",
      "source": [
        "### Interest Rate Prediction"
      ],
      "metadata": {
        "id": "02ZnSqq6HTfy"
      }
    },
    {
      "cell_type": "markdown",
      "source": [
        "### Linear Regression"
      ],
      "metadata": {
        "id": "T1E4PP7vWwUj"
      }
    },
    {
      "cell_type": "code",
      "source": [
        "X_full = loanSet.drop(labels=[\"interest_rate\"], axis=1)\n",
        "y = loanSet[\"interest_rate\"]"
      ],
      "metadata": {
        "id": "WLQwshg4UpzD"
      },
      "execution_count": null,
      "outputs": []
    },
    {
      "cell_type": "code",
      "source": [
        "from sklearn.model_selection import train_test_split\n",
        "X_train, X_test, y_train, y_test = train_test_split(X_full, y, test_size=0.25, random_state=2021)"
      ],
      "metadata": {
        "id": "NJnIt6lgURAM"
      },
      "execution_count": null,
      "outputs": []
    },
    {
      "cell_type": "code",
      "source": [
        "from sklearn.linear_model import LinearRegression\n",
        "ls_model = LinearRegression(fit_intercept=True)\n",
        "ls_model.fit(X_train, y_train)"
      ],
      "metadata": {
        "id": "MxvNu-3nUQ8i"
      },
      "execution_count": null,
      "outputs": []
    },
    {
      "cell_type": "code",
      "source": [
        "y_train_hat = ls_model.predict(X_train)\n",
        "y_test_hat = ls_model.predict(X_test)"
      ],
      "metadata": {
        "id": "ngsC-nNmUQ3b"
      },
      "execution_count": null,
      "outputs": []
    },
    {
      "cell_type": "code",
      "source": [
        "y_test_hat"
      ],
      "metadata": {
        "id": "et1iSemVVsHT"
      },
      "execution_count": null,
      "outputs": []
    },
    {
      "cell_type": "code",
      "source": [
        "from sklearn.metrics import mean_squared_error as mse\n",
        "print(\"Training RMSE:\", np.sqrt(mse(y_train, y_train_hat)))\n",
        "print(\"Testing RMSE:\", np.sqrt(mse(y_test, y_test_hat)))"
      ],
      "metadata": {
        "id": "Y_0LfDh6VUCW"
      },
      "execution_count": null,
      "outputs": []
    },
    {
      "cell_type": "markdown",
      "source": [
        "### Random Forest Regression for Interest Rate"
      ],
      "metadata": {
        "id": "UoJDSJVUWnqa"
      }
    },
    {
      "cell_type": "code",
      "source": [
        "X = loanSet.drop(labels=[\"interest_rate\"], axis=1)\n",
        "y = loanSet[\"interest_rate\"]"
      ],
      "metadata": {
        "id": "l_IkzANSVavF"
      },
      "execution_count": null,
      "outputs": []
    },
    {
      "cell_type": "code",
      "source": [
        "from sklearn.model_selection import train_test_split\n",
        "X_train, X_test, y_train, y_test = train_test_split(X, y, test_size=0.25, random_state=2021)"
      ],
      "metadata": {
        "id": "hMDmLn2oW-Eo"
      },
      "execution_count": null,
      "outputs": []
    },
    {
      "cell_type": "code",
      "source": [
        "from sklearn.ensemble import RandomForestRegressor\n",
        "rf_model = RandomForestRegressor(n_estimators=100)\n",
        "rf_model.fit(X_train, y_train)"
      ],
      "metadata": {
        "id": "qz_zHYKaXA-8"
      },
      "execution_count": null,
      "outputs": []
    },
    {
      "cell_type": "code",
      "source": [
        "y_test_rf_hat = rf_model.predict(X_test)"
      ],
      "metadata": {
        "id": "ESPX-mBbXDIQ"
      },
      "execution_count": null,
      "outputs": []
    },
    {
      "cell_type": "code",
      "source": [
        "print(\"Random Forest Testing RMSE:\", np.sqrt(mse(y_test, y_test_rf_hat)))"
      ],
      "metadata": {
        "id": "S4MnFP1lXFcX"
      },
      "execution_count": null,
      "outputs": []
    },
    {
      "cell_type": "code",
      "source": [
        ""
      ],
      "metadata": {
        "id": "uK6npECAoYML"
      },
      "execution_count": null,
      "outputs": []
    }
  ],
  "metadata": {
    "colab": {
      "collapsed_sections": [],
      "name": "LoanDataset.ipynb",
      "provenance": []
    },
    "kernelspec": {
      "display_name": "Python 3",
      "name": "python3"
    },
    "language_info": {
      "name": "python"
    }
  },
  "nbformat": 4,
  "nbformat_minor": 0
}